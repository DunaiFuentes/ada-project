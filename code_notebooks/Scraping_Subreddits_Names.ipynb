{
 "cells": [
  {
   "cell_type": "markdown",
   "metadata": {},
   "source": [
    "# Scraping Subreddits' Names"
   ]
  },
  {
   "cell_type": "markdown",
   "metadata": {},
   "source": [
    "This aims to retrieve Swiss-related subreddits from the suggestions in /r/Switzerland\n",
    "\n",
    "NOTE: We could have simply copied the names from the website, as they are not an unbereable amount to be done by hand, but we thought this would be an OK warm up exercise to touch more different thing of the typical Data Analysis pipeline in our project."
   ]
  },
  {
   "cell_type": "code",
   "execution_count": 3,
   "metadata": {
    "collapsed": true
   },
   "outputs": [],
   "source": [
    "## Importing libraries\n",
    "import requests\n",
    "from bs4 import BeautifulSoup\n",
    "import numpy as np"
   ]
  },
  {
   "cell_type": "markdown",
   "metadata": {},
   "source": [
    "### Getting the list and Saving to CSV"
   ]
  },
  {
   "cell_type": "markdown",
   "metadata": {},
   "source": [
    "'Requests' library is used to get the HTML data using a base url. 'BeautifulSoup' is then used to parse the HTML."
   ]
  },
  {
   "cell_type": "code",
   "execution_count": null,
   "metadata": {
    "collapsed": false
   },
   "outputs": [],
   "source": [
    "form_url = 'https://www.reddit.com/r/Switzerland/'\n",
    "r = requests.get(form_url)\n",
    "soup = BeautifulSoup(r.text, 'html.parser')\n",
    "#soup"
   ]
  },
  {
   "cell_type": "markdown",
   "metadata": {},
   "source": [
    "We have found a problems with being mistaken by a bot because we ran this several times consecutively!"
   ]
  },
  {
   "cell_type": "code",
   "execution_count": null,
   "metadata": {
    "collapsed": false
   },
   "outputs": [],
   "source": [
    "#The objective is to come up with a SubReddits' name list\n",
    "subReddits = list()\n",
    "subReddits.append('Switzerland')\n",
    "\n",
    "#First we define the categories we are interested in, to avoid including links related to switzerland because of\n",
    "# neighbouring countries, etc.\n",
    "list_of_interesting_categories = ['» Other general Swiss Subreddits','» Special Interest Swiss Subreddits', '» Universities and Institutions']\n",
    "\n",
    "# Then we loop in search for our links\n",
    "for bq in soup.find_all('blockquote'):\n",
    "    if bq.h3.text in list_of_interesting_categories:\n",
    "        \n",
    "        #getting all the links\n",
    "        for link in bq.find_all('a', href=True):    \n",
    "            parts = link['href'].split(\"/\")\n",
    "            if len(parts) == 3:\n",
    "                subReddits.append(parts[2])\n",
    "    \n",
    "print(subReddits)                "
   ]
  },
  {
   "cell_type": "code",
   "execution_count": null,
   "metadata": {
    "collapsed": true
   },
   "outputs": [],
   "source": [
    "# We save the list to csv for later use\n",
    "np.savetxt(\"Swiss_SR.csv\", SubReddits, delimiter=\",\", fmt='%s', header='Swiss SubReddit Names')"
   ]
  },
  {
   "cell_type": "markdown",
   "metadata": {},
   "source": [
    "### Scraping names of subreddits related to United Kingdom"
   ]
  },
  {
   "cell_type": "code",
   "execution_count": 7,
   "metadata": {
    "collapsed": true
   },
   "outputs": [],
   "source": [
    "url = 'https://www.reddit.com/r/unitedkingdom/wiki/british_subreddits'\n",
    "r = requests.get(url)"
   ]
  },
  {
   "cell_type": "code",
   "execution_count": 8,
   "metadata": {
    "collapsed": true
   },
   "outputs": [],
   "source": [
    "soup = BeautifulSoup(r.text, 'html.parser')"
   ]
  },
  {
   "cell_type": "code",
   "execution_count": 10,
   "metadata": {
    "collapsed": false
   },
   "outputs": [],
   "source": [
    "links = soup.find_all('a')"
   ]
  },
  {
   "cell_type": "code",
   "execution_count": 14,
   "metadata": {
    "collapsed": false
   },
   "outputs": [],
   "source": [
    "uk_subreddits = []\n",
    "for link in links:\n",
    "    if link.text.startswith('/r'):\n",
    "        uk_subreddits.append(link.text.strip('/r'))"
   ]
  },
  {
   "cell_type": "code",
   "execution_count": 16,
   "metadata": {
    "collapsed": false
   },
   "outputs": [],
   "source": [
    "# We save the list to csv for later use\n",
    "np.savetxt(\"UK_SR.csv\", uk_subreddits, delimiter=\",\", fmt='%s', header='UK SubReddit Names')"
   ]
  },
  {
   "cell_type": "markdown",
   "metadata": {
    "collapsed": true
   },
   "source": [
    "### Other counties subreddits"
   ]
  },
  {
   "cell_type": "markdown",
   "metadata": {},
   "source": [
    "For Germany, France, Italy and Spain we have skipped the scrapping and did it manually"
   ]
  },
  {
   "cell_type": "code",
   "execution_count": 5,
   "metadata": {
    "collapsed": true
   },
   "outputs": [],
   "source": [
    "de_subreddits = ['germany', 'de', 'German', 'GermanPractice', 'GermanFacts', 'GermanConversation', 'SCHLAND',\n",
    "                 'germanyusa', 'DEjobs', 'bundesliga', 'GermanyPics', 'germusic', 'de_punk', 'germanrap', 'NDH']\n",
    "\n",
    "fr_subreddits = ['blagues', 'cinemacinema', 'france', 'FrancePics', 'frenchelectro', 'Frenchhistory',\n",
    "                 'guessthefrenchmovie', 'Ligue1', 'Livres', 'musiquefrancaise', 'paris', 'pedale', 'philosophie',\n",
    "                 'Politique', 'rance', 'ScienceFr', 'SocialFrance']\n",
    "\n",
    "it_subreddits = ['Calcio', 'ITAGLIA', 'Italianhistory', 'ITALIANMUSIC', 'italy', 'ItalyPhotos', 'Libri', 'Abruzzo',\n",
    "                  'Apulia', 'bari', 'Basilicata', 'bologna', 'Calabria', 'Campania', 'Catania', 'emilia_romagna',\n",
    "                  'firenze', 'friuli', 'Genova', 'Italia', 'lazio', 'Liguria', 'lombardia', 'Lombardy', 'marche',\n",
    "                  'messina', 'milano', 'Modena', 'molise', 'Naples_Italy', 'napoli', 'padova', 'Palermo', 'Perugia',\n",
    "                  'Piedmont', 'piemonte', 'Pisa', 'puglia', 'roma', 'rome', 'romesocialclub', 'Sardegna', 'Sardinia',\n",
    "                  'Sicilia', 'sicily', 'Siracusa', 'torino', 'Toscana', 'trentino_alto_adige', 'trentod', 'Trieste',\n",
    "                  'tuscany', 'Umbria', 'valle_daosta', 'Veneto', 'Venezia']\n",
    "\n",
    "es_subreddits = ['Barcelona', 'EPANA', 'es', 'futbol', 'Granada', 'LaLiga', 'Madrid', 'spain', 'Andalucia', 'SpanishHistory']"
   ]
  },
  {
   "cell_type": "code",
   "execution_count": 6,
   "metadata": {
    "collapsed": false
   },
   "outputs": [],
   "source": [
    "np.savetxt(\"DE_SR.csv\", de_subreddits, delimiter=\",\", fmt='%s', header='Germany SubReddit Names')\n",
    "np.savetxt(\"FR_SR.csv\", fr_subreddits, delimiter=\",\", fmt='%s', header='France SubReddit Names')\n",
    "np.savetxt(\"IT_SR.csv\", it_subreddits, delimiter=\",\", fmt='%s', header='Italy SubReddit Names')\n",
    "np.savetxt(\"ES_SR.csv\", es_subreddits, delimiter=\",\", fmt='%s', header='Spain SubReddit Names')"
   ]
  },
  {
   "cell_type": "code",
   "execution_count": null,
   "metadata": {
    "collapsed": true
   },
   "outputs": [],
   "source": []
  }
 ],
 "metadata": {
  "anaconda-cloud": {},
  "kernelspec": {
   "display_name": "Python [conda root]",
   "language": "python",
   "name": "conda-root-py"
  },
  "language_info": {
   "codemirror_mode": {
    "name": "ipython",
    "version": 3
   },
   "file_extension": ".py",
   "mimetype": "text/x-python",
   "name": "python",
   "nbconvert_exporter": "python",
   "pygments_lexer": "ipython3",
   "version": "3.5.2"
  }
 },
 "nbformat": 4,
 "nbformat_minor": 0
}
