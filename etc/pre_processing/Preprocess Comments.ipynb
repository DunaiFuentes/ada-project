{
 "cells": [
  {
   "cell_type": "markdown",
   "metadata": {},
   "source": [
    "## Preprocessing Comments"
   ]
  },
  {
   "cell_type": "code",
   "execution_count": 35,
   "metadata": {
    "collapsed": false
   },
   "outputs": [],
   "source": [
    "import os\n",
    "import glob\n",
    "import numpy as np\n",
    "import pandas as pd\n",
    "import re\n",
    "from datetime import datetime\n",
    "import pickle"
   ]
  },
  {
   "cell_type": "code",
   "execution_count": 15,
   "metadata": {
    "collapsed": false
   },
   "outputs": [],
   "source": [
    "path = '../data'\n",
    "\n",
    "comment_folder = glob.glob(os.path.join(path, \"reddit_swiss_comments_*\"))\n",
    "comments_files = [glob.glob(os.path.join(folder, \"part-*\")) for folder in comment_folder]\n",
    "    \n",
    "for indx in range(len(comments_files)):\n",
    "    dfs_comments = pd.concat((pd.read_csv(f) for f in comments_files[indx]))\n",
    "    dfs_comments.head()"
   ]
  },
  {
   "cell_type": "code",
   "execution_count": 23,
   "metadata": {
    "collapsed": false
   },
   "outputs": [
    {
     "data": {
      "text/plain": [
       "(18349, 33)"
      ]
     },
     "execution_count": 23,
     "metadata": {},
     "output_type": "execute_result"
    }
   ],
   "source": [
    "dfs_comments.shape"
   ]
  },
  {
   "cell_type": "code",
   "execution_count": 25,
   "metadata": {
    "collapsed": false
   },
   "outputs": [
    {
     "data": {
      "text/plain": [
       "Index(['approved_by', 'archived', 'author', 'author_flair_css_class',\n",
       "       'author_flair_text', 'banned_by', 'body', 'body_html',\n",
       "       'controversiality', 'created', 'created_utc', 'distinguished', 'downs',\n",
       "       'edited', 'gilded', 'id', 'likes', 'link_id', 'mod_reports', 'name',\n",
       "       'num_reports', 'parent_id', 'removal_reason', 'replies',\n",
       "       'report_reasons', 'retrieved_on', 'saved', 'score', 'score_hidden',\n",
       "       'subreddit', 'subreddit_id', 'ups', 'user_reports'],\n",
       "      dtype='object')"
      ]
     },
     "execution_count": 25,
     "metadata": {},
     "output_type": "execute_result"
    }
   ],
   "source": [
    "dfs_comments.columns"
   ]
  },
  {
   "cell_type": "code",
   "execution_count": 28,
   "metadata": {
    "collapsed": false
   },
   "outputs": [],
   "source": [
    "dates = [datetime.fromtimestamp(t) for t in dfs_comments['created_utc'].astype(int)]\n",
    "dfs_comments['dates'] = dates"
   ]
  },
  {
   "cell_type": "code",
   "execution_count": 29,
   "metadata": {
    "collapsed": false
   },
   "outputs": [
    {
     "data": {
      "text/html": [
       "<div>\n",
       "<table border=\"1\" class=\"dataframe\">\n",
       "  <thead>\n",
       "    <tr style=\"text-align: right;\">\n",
       "      <th></th>\n",
       "      <th>approved_by</th>\n",
       "      <th>archived</th>\n",
       "      <th>author</th>\n",
       "      <th>author_flair_css_class</th>\n",
       "      <th>author_flair_text</th>\n",
       "      <th>banned_by</th>\n",
       "      <th>body</th>\n",
       "      <th>body_html</th>\n",
       "      <th>controversiality</th>\n",
       "      <th>created</th>\n",
       "      <th>...</th>\n",
       "      <th>report_reasons</th>\n",
       "      <th>retrieved_on</th>\n",
       "      <th>saved</th>\n",
       "      <th>score</th>\n",
       "      <th>score_hidden</th>\n",
       "      <th>subreddit</th>\n",
       "      <th>subreddit_id</th>\n",
       "      <th>ups</th>\n",
       "      <th>user_reports</th>\n",
       "      <th>dates</th>\n",
       "    </tr>\n",
       "  </thead>\n",
       "  <tbody>\n",
       "    <tr>\n",
       "      <th>0</th>\n",
       "      <td>null</td>\n",
       "      <td>False</td>\n",
       "      <td>renner2</td>\n",
       "      <td>null</td>\n",
       "      <td>null</td>\n",
       "      <td>null</td>\n",
       "      <td>Its late, but was recently posted to the SBB b...</td>\n",
       "      <td>null</td>\n",
       "      <td>0</td>\n",
       "      <td>null</td>\n",
       "      <td>...</td>\n",
       "      <td>null</td>\n",
       "      <td>1425123847</td>\n",
       "      <td>null</td>\n",
       "      <td>1</td>\n",
       "      <td>False</td>\n",
       "      <td>Switzerland</td>\n",
       "      <td>t5_2qhp6</td>\n",
       "      <td>1</td>\n",
       "      <td>null</td>\n",
       "      <td>2015-01-01 01:35:02</td>\n",
       "    </tr>\n",
       "    <tr>\n",
       "      <th>1</th>\n",
       "      <td>null</td>\n",
       "      <td>False</td>\n",
       "      <td>SwissBliss</td>\n",
       "      <td>vd</td>\n",
       "      <td>Lived my whole life in Vaud/Family in Valais</td>\n",
       "      <td>null</td>\n",
       "      <td>Haha will do</td>\n",
       "      <td>null</td>\n",
       "      <td>0</td>\n",
       "      <td>null</td>\n",
       "      <td>...</td>\n",
       "      <td>null</td>\n",
       "      <td>1425123317</td>\n",
       "      <td>null</td>\n",
       "      <td>3</td>\n",
       "      <td>False</td>\n",
       "      <td>Switzerland</td>\n",
       "      <td>t5_2qhp6</td>\n",
       "      <td>3</td>\n",
       "      <td>null</td>\n",
       "      <td>2015-01-01 02:20:02</td>\n",
       "    </tr>\n",
       "    <tr>\n",
       "      <th>2</th>\n",
       "      <td>null</td>\n",
       "      <td>False</td>\n",
       "      <td>KikiManjaro</td>\n",
       "      <td>null</td>\n",
       "      <td>null</td>\n",
       "      <td>null</td>\n",
       "      <td>Happy new year</td>\n",
       "      <td>null</td>\n",
       "      <td>0</td>\n",
       "      <td>null</td>\n",
       "      <td>...</td>\n",
       "      <td>null</td>\n",
       "      <td>1425122850</td>\n",
       "      <td>null</td>\n",
       "      <td>3</td>\n",
       "      <td>False</td>\n",
       "      <td>Switzerland</td>\n",
       "      <td>t5_2qhp6</td>\n",
       "      <td>3</td>\n",
       "      <td>null</td>\n",
       "      <td>2015-01-01 03:01:13</td>\n",
       "    </tr>\n",
       "    <tr>\n",
       "      <th>3</th>\n",
       "      <td>null</td>\n",
       "      <td>False</td>\n",
       "      <td>[deleted]</td>\n",
       "      <td>null</td>\n",
       "      <td>null</td>\n",
       "      <td>null</td>\n",
       "      <td>Better late than never. Thank you and happy ne...</td>\n",
       "      <td>null</td>\n",
       "      <td>0</td>\n",
       "      <td>null</td>\n",
       "      <td>...</td>\n",
       "      <td>null</td>\n",
       "      <td>1425120179</td>\n",
       "      <td>null</td>\n",
       "      <td>1</td>\n",
       "      <td>False</td>\n",
       "      <td>Switzerland</td>\n",
       "      <td>t5_2qhp6</td>\n",
       "      <td>1</td>\n",
       "      <td>null</td>\n",
       "      <td>2015-01-01 07:42:56</td>\n",
       "    </tr>\n",
       "    <tr>\n",
       "      <th>4</th>\n",
       "      <td>null</td>\n",
       "      <td>False</td>\n",
       "      <td>Kyrixia</td>\n",
       "      <td>null</td>\n",
       "      <td>null</td>\n",
       "      <td>null</td>\n",
       "      <td>Im in verbier atm too, would love to ski :) pm...</td>\n",
       "      <td>null</td>\n",
       "      <td>0</td>\n",
       "      <td>null</td>\n",
       "      <td>...</td>\n",
       "      <td>null</td>\n",
       "      <td>1425120021</td>\n",
       "      <td>null</td>\n",
       "      <td>2</td>\n",
       "      <td>False</td>\n",
       "      <td>Switzerland</td>\n",
       "      <td>t5_2qhp6</td>\n",
       "      <td>2</td>\n",
       "      <td>null</td>\n",
       "      <td>2015-01-01 08:03:32</td>\n",
       "    </tr>\n",
       "  </tbody>\n",
       "</table>\n",
       "<p>5 rows × 34 columns</p>\n",
       "</div>"
      ],
      "text/plain": [
       "  approved_by archived       author author_flair_css_class  \\\n",
       "0        null    False      renner2                   null   \n",
       "1        null    False   SwissBliss                     vd   \n",
       "2        null    False  KikiManjaro                   null   \n",
       "3        null    False    [deleted]                   null   \n",
       "4        null    False      Kyrixia                   null   \n",
       "\n",
       "                              author_flair_text banned_by  \\\n",
       "0                                          null      null   \n",
       "1  Lived my whole life in Vaud/Family in Valais      null   \n",
       "2                                          null      null   \n",
       "3                                          null      null   \n",
       "4                                          null      null   \n",
       "\n",
       "                                                body body_html  \\\n",
       "0  Its late, but was recently posted to the SBB b...      null   \n",
       "1                                       Haha will do      null   \n",
       "2                                    Happy new year       null   \n",
       "3  Better late than never. Thank you and happy ne...      null   \n",
       "4  Im in verbier atm too, would love to ski :) pm...      null   \n",
       "\n",
       "   controversiality created         ...          report_reasons retrieved_on  \\\n",
       "0                 0    null         ...                    null   1425123847   \n",
       "1                 0    null         ...                    null   1425123317   \n",
       "2                 0    null         ...                    null   1425122850   \n",
       "3                 0    null         ...                    null   1425120179   \n",
       "4                 0    null         ...                    null   1425120021   \n",
       "\n",
       "  saved score  score_hidden    subreddit subreddit_id ups user_reports  \\\n",
       "0  null     1         False  Switzerland     t5_2qhp6   1         null   \n",
       "1  null     3         False  Switzerland     t5_2qhp6   3         null   \n",
       "2  null     3         False  Switzerland     t5_2qhp6   3         null   \n",
       "3  null     1         False  Switzerland     t5_2qhp6   1         null   \n",
       "4  null     2         False  Switzerland     t5_2qhp6   2         null   \n",
       "\n",
       "                dates  \n",
       "0 2015-01-01 01:35:02  \n",
       "1 2015-01-01 02:20:02  \n",
       "2 2015-01-01 03:01:13  \n",
       "3 2015-01-01 07:42:56  \n",
       "4 2015-01-01 08:03:32  \n",
       "\n",
       "[5 rows x 34 columns]"
      ]
     },
     "execution_count": 29,
     "metadata": {},
     "output_type": "execute_result"
    }
   ],
   "source": [
    "deleted_comments = dfs_comments[dfs_comments['body'] != '[deleted]']\n",
    "\n",
    "dfs_comments_clean = dfs_comments[dfs_comments['body'] != '[deleted]'].copy()\n",
    "dfs_comments_clean.head()"
   ]
  },
  {
   "cell_type": "code",
   "execution_count": 30,
   "metadata": {
    "collapsed": false
   },
   "outputs": [
    {
     "data": {
      "text/html": [
       "<div>\n",
       "<table border=\"1\" class=\"dataframe\">\n",
       "  <thead>\n",
       "    <tr style=\"text-align: right;\">\n",
       "      <th></th>\n",
       "      <th>controversiality</th>\n",
       "      <th>created_utc</th>\n",
       "      <th>gilded</th>\n",
       "      <th>score</th>\n",
       "      <th>ups</th>\n",
       "    </tr>\n",
       "  </thead>\n",
       "  <tbody>\n",
       "    <tr>\n",
       "      <th>count</th>\n",
       "      <td>17660.000000</td>\n",
       "      <td>1.766000e+04</td>\n",
       "      <td>17660.000000</td>\n",
       "      <td>17660.000000</td>\n",
       "      <td>17660.000000</td>\n",
       "    </tr>\n",
       "    <tr>\n",
       "      <th>mean</th>\n",
       "      <td>0.013364</td>\n",
       "      <td>1.431279e+09</td>\n",
       "      <td>0.000566</td>\n",
       "      <td>2.917214</td>\n",
       "      <td>2.917214</td>\n",
       "    </tr>\n",
       "    <tr>\n",
       "      <th>std</th>\n",
       "      <td>0.114829</td>\n",
       "      <td>5.956188e+06</td>\n",
       "      <td>0.023790</td>\n",
       "      <td>4.359535</td>\n",
       "      <td>4.359535</td>\n",
       "    </tr>\n",
       "    <tr>\n",
       "      <th>min</th>\n",
       "      <td>0.000000</td>\n",
       "      <td>1.420073e+09</td>\n",
       "      <td>0.000000</td>\n",
       "      <td>-54.000000</td>\n",
       "      <td>-54.000000</td>\n",
       "    </tr>\n",
       "    <tr>\n",
       "      <th>25%</th>\n",
       "      <td>0.000000</td>\n",
       "      <td>1.426272e+09</td>\n",
       "      <td>0.000000</td>\n",
       "      <td>1.000000</td>\n",
       "      <td>1.000000</td>\n",
       "    </tr>\n",
       "    <tr>\n",
       "      <th>50%</th>\n",
       "      <td>0.000000</td>\n",
       "      <td>1.431824e+09</td>\n",
       "      <td>0.000000</td>\n",
       "      <td>2.000000</td>\n",
       "      <td>2.000000</td>\n",
       "    </tr>\n",
       "    <tr>\n",
       "      <th>75%</th>\n",
       "      <td>0.000000</td>\n",
       "      <td>1.436307e+09</td>\n",
       "      <td>0.000000</td>\n",
       "      <td>3.000000</td>\n",
       "      <td>3.000000</td>\n",
       "    </tr>\n",
       "    <tr>\n",
       "      <th>max</th>\n",
       "      <td>1.000000</td>\n",
       "      <td>1.441064e+09</td>\n",
       "      <td>1.000000</td>\n",
       "      <td>91.000000</td>\n",
       "      <td>91.000000</td>\n",
       "    </tr>\n",
       "  </tbody>\n",
       "</table>\n",
       "</div>"
      ],
      "text/plain": [
       "       controversiality   created_utc        gilded         score  \\\n",
       "count      17660.000000  1.766000e+04  17660.000000  17660.000000   \n",
       "mean           0.013364  1.431279e+09      0.000566      2.917214   \n",
       "std            0.114829  5.956188e+06      0.023790      4.359535   \n",
       "min            0.000000  1.420073e+09      0.000000    -54.000000   \n",
       "25%            0.000000  1.426272e+09      0.000000      1.000000   \n",
       "50%            0.000000  1.431824e+09      0.000000      2.000000   \n",
       "75%            0.000000  1.436307e+09      0.000000      3.000000   \n",
       "max            1.000000  1.441064e+09      1.000000     91.000000   \n",
       "\n",
       "                ups  \n",
       "count  17660.000000  \n",
       "mean       2.917214  \n",
       "std        4.359535  \n",
       "min      -54.000000  \n",
       "25%        1.000000  \n",
       "50%        2.000000  \n",
       "75%        3.000000  \n",
       "max       91.000000  "
      ]
     },
     "execution_count": 30,
     "metadata": {},
     "output_type": "execute_result"
    }
   ],
   "source": [
    "dfs_comments_clean.describe()"
   ]
  },
  {
   "cell_type": "code",
   "execution_count": 31,
   "metadata": {
    "collapsed": false
   },
   "outputs": [],
   "source": [
    "def findURL(line):\n",
    "    pattern = r'(https?:\\/\\/(?:www\\.|(?!www))[^\\s\\.]+\\.[^\\s]{2,}|www\\.[^\\s]+\\.[^\\s]{2,}|([-a-zA-Z0-9@:%._\\+~#=]{2,256}\\.[a-z]{2,6}\\b([-a-zA-Z0-9@:%_\\+.~#?&//=]*)))'\n",
    "    match = re.search( pattern, line, re.I)\n",
    "    if match:\n",
    "        return match.group()\n",
    "    else:\n",
    "        return 'NULL'"
   ]
  },
  {
   "cell_type": "code",
   "execution_count": 32,
   "metadata": {
    "collapsed": false
   },
   "outputs": [],
   "source": [
    "urls = dfs_comments_clean.apply(lambda x: findURL(x['body']),axis=1)\n",
    "dfs_comments_clean.loc[:,'extractedURL'] = urls\n",
    "dfs_comments_clean.loc[:,'body'] = dfs_comments_clean.apply(lambda x: x['body'].replace(x['extractedURL'],''),axis=1)"
   ]
  },
  {
   "cell_type": "code",
   "execution_count": 33,
   "metadata": {
    "collapsed": false
   },
   "outputs": [
    {
     "data": {
      "text/plain": [
       "(2251, 35)"
      ]
     },
     "execution_count": 33,
     "metadata": {},
     "output_type": "execute_result"
    }
   ],
   "source": [
    "dfs_comments_clean[dfs_comments_clean['extractedURL'] != 'NULL'].shape"
   ]
  },
  {
   "cell_type": "code",
   "execution_count": 34,
   "metadata": {
    "collapsed": false
   },
   "outputs": [
    {
     "data": {
      "text/plain": [
       "array(['Its late, but was recently posted to the SBB blog.\\n\\n',\n",
       "       'Haha will do', 'Happy new year ', ...,\n",
       "       \"I didn't mean to and I'm sorry if it came across as such. I would never insinuate something like that.\",\n",
       "       \"Don't forget Spiez!\",\n",
       "       'Yes, everyone has different personality and needs to adjust accordingly'], dtype=object)"
      ]
     },
     "execution_count": 34,
     "metadata": {},
     "output_type": "execute_result"
    }
   ],
   "source": [
    "comments = dfs_comments_clean['body'].values\n",
    "comments"
   ]
  },
  {
   "cell_type": "code",
   "execution_count": 36,
   "metadata": {
    "collapsed": false
   },
   "outputs": [
    {
     "ename": "TypeError",
     "evalue": "Required argument 'file' (pos 2) not found",
     "output_type": "error",
     "traceback": [
      "\u001b[0;31m---------------------------------------------------------------------------\u001b[0m",
      "\u001b[0;31mTypeError\u001b[0m                                 Traceback (most recent call last)",
      "\u001b[0;32m<ipython-input-36-811307d56ccc>\u001b[0m in \u001b[0;36m<module>\u001b[0;34m()\u001b[0m\n\u001b[0;32m----> 1\u001b[0;31m \u001b[0mpickle\u001b[0m\u001b[0;34m.\u001b[0m\u001b[0mdump\u001b[0m\u001b[0;34m(\u001b[0m\u001b[0mopen\u001b[0m\u001b[0;34m(\u001b[0m\u001b[0;34m'comments_processed.pickle'\u001b[0m\u001b[0;34m,\u001b[0m\u001b[0;34m'wb'\u001b[0m\u001b[0;34m)\u001b[0m\u001b[0;34m)\u001b[0m\u001b[0;34m\u001b[0m\u001b[0m\n\u001b[0m",
      "\u001b[0;31mTypeError\u001b[0m: Required argument 'file' (pos 2) not found"
     ]
    }
   ],
   "source": [
    "pickle.dump(copen('comments_processed.pickle','wb'))"
   ]
  },
  {
   "cell_type": "code",
   "execution_count": null,
   "metadata": {
    "collapsed": true
   },
   "outputs": [],
   "source": []
  }
 ],
 "metadata": {
  "anaconda-cloud": {},
  "kernelspec": {
   "display_name": "Python [conda env:python35]",
   "language": "python",
   "name": "conda-env-python35-py"
  },
  "language_info": {
   "codemirror_mode": {
    "name": "ipython",
    "version": 3
   },
   "file_extension": ".py",
   "mimetype": "text/x-python",
   "name": "python",
   "nbconvert_exporter": "python",
   "pygments_lexer": "ipython3",
   "version": "3.5.2"
  }
 },
 "nbformat": 4,
 "nbformat_minor": 1
}
