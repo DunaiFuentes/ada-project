{
 "cells": [
  {
   "cell_type": "markdown",
   "metadata": {},
   "source": [
    "# Analyzing Reddit Content Growth\n",
    "\n",
    "In this notebook we study different aspects of content growth and rates in Reddit. Our focus is to compare that of Switzerland associated subreddites with other european countries."
   ]
  },
  {
   "cell_type": "markdown",
   "metadata": {},
   "source": [
    "We have three sets of data: UK, EUROPE, SWITZERLAND. We will import and process them independently, EUROPE splitted in Germany, France, Italy, Spain. Finally we will proceed to make the analysis"
   ]
  },
  {
   "cell_type": "code",
   "execution_count": 1,
   "metadata": {
    "collapsed": true
   },
   "outputs": [],
   "source": [
    "# Import Libraries\n",
    "\n",
    "%matplotlib inline\n",
    "import pandas as pd\n",
    "import numpy as np\n",
    "import matplotlib.pyplot as plt\n",
    "import seaborn as sns\n",
    "sns.set_context('notebook')\n",
    "from datetime import datetime\n",
    "import os\n",
    "import glob"
   ]
  },
  {
   "cell_type": "code",
   "execution_count": 2,
   "metadata": {
    "collapsed": true
   },
   "outputs": [],
   "source": [
    "# Load data\n",
    "\n",
    "# Europe\n",
    "path = \"../data/reddit_europe_submissions_fullcorpus\"\n",
    "all_files = glob.glob(os.path.join(path, \"part-*\"))\n",
    "df_eu = pd.concat((pd.read_csv(f) for f in all_files))\n",
    "\n",
    "#UK\n",
    "path = \"../data/reddit_uk_submissions_fullcorpus\"\n",
    "all_files = glob.glob(os.path.join(path, \"part-*\"))\n",
    "df_uk = pd.concat((pd.read_csv(f) for f in all_files))\n",
    "\n",
    "#Switzerland\n",
    "path = \"../data/reddit_swiss_submissions_fullcorpus\"\n",
    "all_files = glob.glob(os.path.join(path, \"part-*\"))\n",
    "df_ch = pd.concat((pd.read_csv(f) for f in all_files))"
   ]
  },
  {
   "cell_type": "code",
   "execution_count": 3,
   "metadata": {
    "collapsed": false
   },
   "outputs": [
    {
     "data": {
      "text/plain": [
       "Index(['adserver_click_url', 'adserver_imp_pixel', 'archived', 'author',\n",
       "       'author_flair_css_class', 'author_flair_text', 'created', 'created_utc',\n",
       "       'disable_comments', 'distinguished', 'domain', 'downs', 'edited',\n",
       "       'from', 'from_id', 'from_kind', 'gilded', 'hide_score', 'href_url',\n",
       "       'id', 'imp_pixel', 'is_self', 'link_flair_css_class', 'link_flair_text',\n",
       "       'media', 'media_embed', 'mobile_ad_url', 'name', 'num_comments',\n",
       "       'over_18', 'permalink', 'post_hint', 'preview', 'promoted',\n",
       "       'quarantine', 'retrieved_on', 'saved', 'score', 'secure_media',\n",
       "       'secure_media_embed', 'selftext', 'stickied', 'subreddit',\n",
       "       'subreddit_id', 'third_party_tracking', 'third_party_tracking_2',\n",
       "       'thumbnail', 'title', 'ups', 'url'],\n",
       "      dtype='object')"
      ]
     },
     "execution_count": 3,
     "metadata": {},
     "output_type": "execute_result"
    }
   ],
   "source": [
    "df_eu.columns"
   ]
  },
  {
   "cell_type": "code",
   "execution_count": 4,
   "metadata": {
    "collapsed": false
   },
   "outputs": [],
   "source": [
    "## Separate Europe\n",
    "\n",
    "# Declare lists of subreddits for different countries\n",
    "de_subreddits = ['germany', 'de', 'German', 'GermanPractice', 'GermanFacts', 'GermanConversation', 'SCHLAND',\n",
    "                 'germanyusa', 'DEjobs', 'bundesliga', 'GermanyPics', 'germusic', 'de_punk', 'germanrap', 'NDH']\n",
    "\n",
    "fr_subreddits = ['blagues', 'cinemacinema', 'france', 'FrancePics', 'frenchelectro', 'Frenchhistory',\n",
    "                 'guessthefrenchmovie', 'Ligue1', 'Livres', 'musiquefrancaise', 'paris', 'pedale', 'philosophie',\n",
    "                 'Politique', 'rance', 'ScienceFr', 'SocialFrance']\n",
    "\n",
    "it_subreddits = ['Calcio', 'ITAGLIA', 'Italianhistory', 'ITALIANMUSIC', 'italy', 'ItalyPhotos', 'Libri', 'Abruzzo',\n",
    "                 'Apulia', 'bari', 'Basilicata', 'bologna', 'Calabria', 'Campania', 'Catania', 'emilia_romagna',\n",
    "                 'firenze', 'friuli', 'Genova', 'Italia', 'lazio', 'Liguria', 'lombardia', 'Lombardy', 'marche',\n",
    "                 'messina', 'milano', 'Modena', 'molise', 'Naples_Italy', 'napoli', 'padova', 'Palermo', 'Perugia',\n",
    "                 'Piedmont', 'piemonte', 'Pisa', 'puglia', 'roma', 'rome', 'romesocialclub', 'Sardegna', 'Sardinia',\n",
    "                 'Sicilia', 'sicily', 'Siracusa', 'torino', 'Toscana', 'trentino_alto_adige', 'trentod', 'Trieste',\n",
    "                 'tuscany', 'Umbria', 'valle_daosta', 'Veneto', 'Venezia']\n",
    "\n",
    "es_subreddits = ['Barcelona', 'EPANA', 'es', 'futbol', 'Granada', 'LaLiga', 'Madrid', 'spain', 'Andalucia', 'SpanishHistory']\n",
    "\n",
    "# Filter\n",
    "df_eu = df_eu.set_index('subreddit')\n",
    "df_de = df_eu.ix[de_subreddits,:].reset_index()\n",
    "df_fr = df_eu.ix[fr_subreddits,:].reset_index()\n",
    "df_it = df_eu.ix[it_subreddits,:].reset_index()\n",
    "df_es = df_eu.ix[es_subreddits,:].reset_index()"
   ]
  },
  {
   "cell_type": "code",
   "execution_count": 5,
   "metadata": {
    "collapsed": false
   },
   "outputs": [],
   "source": [
    "## Add COUNTRY field and merge data\n",
    "\n",
    "df_ch['Country'] = 'CH'\n",
    "df_uk['Country'] = 'UK'\n",
    "df_de['Country'] = 'DE'\n",
    "df_fr['Country'] = 'FR'\n",
    "df_it['Country'] = 'IT'\n",
    "df_es['Country'] = 'ES'\n",
    "\n",
    "df = pd.concat([df_ch,df_uk,df_de,df_fr,df_it,df_es])"
   ]
  },
  {
   "cell_type": "code",
   "execution_count": 6,
   "metadata": {
    "collapsed": false
   },
   "outputs": [
    {
     "data": {
      "text/plain": [
       "(801615, 51)"
      ]
     },
     "execution_count": 6,
     "metadata": {},
     "output_type": "execute_result"
    }
   ],
   "source": [
    "df.shape"
   ]
  },
  {
   "cell_type": "markdown",
   "metadata": {},
   "source": [
    "We will be analyzing a total of **801615** threads across all the countries mentioned"
   ]
  },
  {
   "cell_type": "markdown",
   "metadata": {},
   "source": [
    "## 1. On Data Volume by country\n",
    "\n",
    "To start making sense of the data we have, we wonder how much belongs to each country. Following results are for accumulated values up to 2015."
   ]
  },
  {
   "cell_type": "code",
   "execution_count": 7,
   "metadata": {
    "collapsed": false
   },
   "outputs": [
    {
     "data": {
      "text/plain": [
       "<matplotlib.axes._subplots.AxesSubplot at 0x2294b510cf8>"
      ]
     },
     "execution_count": 7,
     "metadata": {},
     "output_type": "execute_result"
    },
    {
     "data": {
      "image/png": "[encoded data removed]",
      "text/plain": [
       "<matplotlib.figure.Figure at 0x2296eb334e0>"
      ]
     },
     "metadata": {},
     "output_type": "display_data"
    }
   ],
   "source": [
    "df_count_by_country = df.groupby('Country').count()\n",
    "df_count_by_country.created.plot(kind='bar', title='Total Number of Threads by Country')"
   ]
  },
  {
   "cell_type": "code",
   "execution_count": 8,
   "metadata": {
    "collapsed": false
   },
   "outputs": [
    {
     "data": {
      "text/plain": [
       "<matplotlib.axes._subplots.AxesSubplot at 0x2296eb33588>"
      ]
     },
     "execution_count": 8,
     "metadata": {},
     "output_type": "execute_result"
    },
    {
     "data": {
      "image/png": "[encoded data removed]",
      "text/plain": [
       "<matplotlib.figure.Figure at 0x2290f2bbe80>"
      ]
     },
     "metadata": {},
     "output_type": "display_data"
    }
   ],
   "source": [
    "df_comments_by_country = df.groupby('Country')['num_comments'].sum()\n",
    "df_comments_by_country.plot(kind='bar', title='Total Number of Comments by Country')"
   ]
  },
  {
   "cell_type": "markdown",
   "metadata": {},
   "source": [
    "We observe how UK widely dominates both graphs, number of threads and number of comments. Switzerland, being the smallest of these countries, is justifiably behind.\n",
    "\n",
    "To make the graph fair, we decide to rectify the values according to an estimate of the country's population.\n",
    "\n",
    "\n",
    "**DISCLAIMER:** We have gathered the data from http://data.worldbank.org/"
   ]
  },
  {
   "cell_type": "code",
   "execution_count": 9,
   "metadata": {
    "collapsed": false
   },
   "outputs": [
    {
     "data": {
      "text/html": [
       "<div>\n",
       "<table border=\"1\" class=\"dataframe\">\n",
       "  <thead>\n",
       "    <tr style=\"text-align: right;\">\n",
       "      <th></th>\n",
       "      <th>﻿Series Name</th>\n",
       "      <th>Series Code</th>\n",
       "      <th>Country Code</th>\n",
       "      <th>1990 [YR1990]</th>\n",
       "      <th>2000 [YR2000]</th>\n",
       "      <th>2007 [YR2007]</th>\n",
       "      <th>2008 [YR2008]</th>\n",
       "      <th>2009 [YR2009]</th>\n",
       "      <th>2010 [YR2010]</th>\n",
       "      <th>2011 [YR2011]</th>\n",
       "      <th>2012 [YR2012]</th>\n",
       "      <th>2013 [YR2013]</th>\n",
       "      <th>2014 [YR2014]</th>\n",
       "      <th>2015 [YR2015]</th>\n",
       "      <th>2016 [YR2016]</th>\n",
       "    </tr>\n",
       "    <tr>\n",
       "      <th>Country Name</th>\n",
       "      <th></th>\n",
       "      <th></th>\n",
       "      <th></th>\n",
       "      <th></th>\n",
       "      <th></th>\n",
       "      <th></th>\n",
       "      <th></th>\n",
       "      <th></th>\n",
       "      <th></th>\n",
       "      <th></th>\n",
       "      <th></th>\n",
       "      <th></th>\n",
       "      <th></th>\n",
       "      <th></th>\n",
       "      <th></th>\n",
       "    </tr>\n",
       "  </thead>\n",
       "  <tbody>\n",
       "    <tr>\n",
       "      <th>Afghanistan</th>\n",
       "      <td>Population, total</td>\n",
       "      <td>SP.POP.TOTL</td>\n",
       "      <td>AFG</td>\n",
       "      <td>12067570</td>\n",
       "      <td>19701940.0</td>\n",
       "      <td>25877544.0</td>\n",
       "      <td>26528741.0</td>\n",
       "      <td>27207291.0</td>\n",
       "      <td>27962207.0</td>\n",
       "      <td>28809167.0</td>\n",
       "      <td>29726803</td>\n",
       "      <td>30682500</td>\n",
       "      <td>31627506</td>\n",
       "      <td>32526562</td>\n",
       "      <td>..</td>\n",
       "    </tr>\n",
       "    <tr>\n",
       "      <th>Albania</th>\n",
       "      <td>Population, total</td>\n",
       "      <td>SP.POP.TOTL</td>\n",
       "      <td>ALB</td>\n",
       "      <td>3286542</td>\n",
       "      <td>3089027.0</td>\n",
       "      <td>2970017.0</td>\n",
       "      <td>2947314.0</td>\n",
       "      <td>2927519.0</td>\n",
       "      <td>2913021.0</td>\n",
       "      <td>2904780.0</td>\n",
       "      <td>2900247</td>\n",
       "      <td>2896652</td>\n",
       "      <td>2893654</td>\n",
       "      <td>2889167</td>\n",
       "      <td>..</td>\n",
       "    </tr>\n",
       "    <tr>\n",
       "      <th>Algeria</th>\n",
       "      <td>Population, total</td>\n",
       "      <td>SP.POP.TOTL</td>\n",
       "      <td>DZA</td>\n",
       "      <td>25912364</td>\n",
       "      <td>31183658.0</td>\n",
       "      <td>34261971.0</td>\n",
       "      <td>34811059.0</td>\n",
       "      <td>35401790.0</td>\n",
       "      <td>36036159.0</td>\n",
       "      <td>36717132.0</td>\n",
       "      <td>37439427</td>\n",
       "      <td>38186135</td>\n",
       "      <td>38934334</td>\n",
       "      <td>39666519</td>\n",
       "      <td>..</td>\n",
       "    </tr>\n",
       "    <tr>\n",
       "      <th>American Samoa</th>\n",
       "      <td>Population, total</td>\n",
       "      <td>SP.POP.TOTL</td>\n",
       "      <td>ASM</td>\n",
       "      <td>47044</td>\n",
       "      <td>57522.0</td>\n",
       "      <td>57904.0</td>\n",
       "      <td>57031.0</td>\n",
       "      <td>56226.0</td>\n",
       "      <td>55636.0</td>\n",
       "      <td>55316.0</td>\n",
       "      <td>55227</td>\n",
       "      <td>55302</td>\n",
       "      <td>55434</td>\n",
       "      <td>55538</td>\n",
       "      <td>..</td>\n",
       "    </tr>\n",
       "    <tr>\n",
       "      <th>Andorra</th>\n",
       "      <td>Population, total</td>\n",
       "      <td>SP.POP.TOTL</td>\n",
       "      <td>ADO</td>\n",
       "      <td>54511</td>\n",
       "      <td>65399.0</td>\n",
       "      <td>84878.0</td>\n",
       "      <td>85616.0</td>\n",
       "      <td>85474.0</td>\n",
       "      <td>84419.0</td>\n",
       "      <td>82326.0</td>\n",
       "      <td>79316</td>\n",
       "      <td>75902</td>\n",
       "      <td>72786</td>\n",
       "      <td>70473</td>\n",
       "      <td>..</td>\n",
       "    </tr>\n",
       "  </tbody>\n",
       "</table>\n",
       "</div>"
      ],
      "text/plain": [
       "                     ﻿Series Name  Series Code Country Code 1990 [YR1990]  \\\n",
       "Country Name                                                                \n",
       "Afghanistan     Population, total  SP.POP.TOTL          AFG      12067570   \n",
       "Albania         Population, total  SP.POP.TOTL          ALB       3286542   \n",
       "Algeria         Population, total  SP.POP.TOTL          DZA      25912364   \n",
       "American Samoa  Population, total  SP.POP.TOTL          ASM         47044   \n",
       "Andorra         Population, total  SP.POP.TOTL          ADO         54511   \n",
       "\n",
       "                2000 [YR2000]  2007 [YR2007]  2008 [YR2008]  2009 [YR2009]  \\\n",
       "Country Name                                                                 \n",
       "Afghanistan        19701940.0     25877544.0     26528741.0     27207291.0   \n",
       "Albania             3089027.0      2970017.0      2947314.0      2927519.0   \n",
       "Algeria            31183658.0     34261971.0     34811059.0     35401790.0   \n",
       "American Samoa        57522.0        57904.0        57031.0        56226.0   \n",
       "Andorra               65399.0        84878.0        85616.0        85474.0   \n",
       "\n",
       "                2010 [YR2010]  2011 [YR2011] 2012 [YR2012] 2013 [YR2013]  \\\n",
       "Country Name                                                               \n",
       "Afghanistan        27962207.0     28809167.0      29726803      30682500   \n",
       "Albania             2913021.0      2904780.0       2900247       2896652   \n",
       "Algeria            36036159.0     36717132.0      37439427      38186135   \n",
       "American Samoa        55636.0        55316.0         55227         55302   \n",
       "Andorra               84419.0        82326.0         79316         75902   \n",
       "\n",
       "               2014 [YR2014] 2015 [YR2015] 2016 [YR2016]  \n",
       "Country Name                                              \n",
       "Afghanistan         31627506      32526562            ..  \n",
       "Albania              2893654       2889167            ..  \n",
       "Algeria             38934334      39666519            ..  \n",
       "American Samoa         55434         55538            ..  \n",
       "Andorra                72786         70473            ..  "
      ]
     },
     "execution_count": 9,
     "metadata": {},
     "output_type": "execute_result"
    }
   ],
   "source": [
    "# Load population data from file\n",
    "df_population = pd.read_csv('population_data.csv').set_index('Country Name')\n",
    "df_population.head()"
   ]
  },
  {
   "cell_type": "code",
   "execution_count": 10,
   "metadata": {
    "collapsed": false
   },
   "outputs": [
    {
     "data": {
      "text/html": [
       "<div>\n",
       "<table border=\"1\" class=\"dataframe\">\n",
       "  <thead>\n",
       "    <tr style=\"text-align: right;\">\n",
       "      <th></th>\n",
       "      <th>2015 [YR2015]</th>\n",
       "    </tr>\n",
       "    <tr>\n",
       "      <th>Country</th>\n",
       "      <th></th>\n",
       "    </tr>\n",
       "  </thead>\n",
       "  <tbody>\n",
       "    <tr>\n",
       "      <th>CH</th>\n",
       "      <td>8286976</td>\n",
       "    </tr>\n",
       "    <tr>\n",
       "      <th>UK</th>\n",
       "      <td>65138232</td>\n",
       "    </tr>\n",
       "    <tr>\n",
       "      <th>DE</th>\n",
       "      <td>81413145</td>\n",
       "    </tr>\n",
       "    <tr>\n",
       "      <th>FR</th>\n",
       "      <td>66808385</td>\n",
       "    </tr>\n",
       "    <tr>\n",
       "      <th>IT</th>\n",
       "      <td>60802085</td>\n",
       "    </tr>\n",
       "    <tr>\n",
       "      <th>ES</th>\n",
       "      <td>46418269</td>\n",
       "    </tr>\n",
       "  </tbody>\n",
       "</table>\n",
       "</div>"
      ],
      "text/plain": [
       "        2015 [YR2015]\n",
       "Country              \n",
       "CH            8286976\n",
       "UK           65138232\n",
       "DE           81413145\n",
       "FR           66808385\n",
       "IT           60802085\n",
       "ES           46418269"
      ]
     },
     "execution_count": 10,
     "metadata": {},
     "output_type": "execute_result"
    }
   ],
   "source": [
    "# Extract wanted data\n",
    "df_population_selection = df_population.ix[['Switzerland','United Kingdom','Germany','France','Italy','Spain'],['2015 [YR2015]']]\n",
    "df_population_selection = df_population_selection.reset_index()\n",
    "\n",
    "# Rename index\n",
    "df_population_selection = df_population_selection.drop('Country Name',axis=1)\n",
    "df_population_selection['Country'] = ['CH','UK','DE','FR','IT','ES']\n",
    "df_population_selection = df_population_selection.set_index('Country')\n",
    "\n",
    "df_population_selection"
   ]
  },
  {
   "cell_type": "code",
   "execution_count": 11,
   "metadata": {
    "collapsed": false
   },
   "outputs": [
    {
     "data": {
      "text/plain": [
       "<matplotlib.axes._subplots.AxesSubplot at 0x2290f34ce48>"
      ]
     },
     "execution_count": 11,
     "metadata": {},
     "output_type": "execute_result"
    },
    {
     "data": {
      "image/png": "[encoded data removed]",
      "text/plain": [
       "<matplotlib.figure.Figure at 0x2290f34c048>"
      ]
     },
     "metadata": {},
     "output_type": "display_data"
    }
   ],
   "source": [
    "# Rectify values and plot again\n",
    "\n",
    "df1 = df_count_by_country.merge(df_population_selection, left_index=True, right_index=True)\n",
    "df2 = df1.created / df1['2015 [YR2015]'].astype('int') * 10000\n",
    "\n",
    "df2.plot(kind='bar', title='Total Number of Threads by Country * 10000 / Population')"
   ]
  },
  {
   "cell_type": "code",
   "execution_count": 12,
   "metadata": {
    "collapsed": false
   },
   "outputs": [
    {
     "data": {
      "text/plain": [
       "<matplotlib.axes._subplots.AxesSubplot at 0x2294ab0d5f8>"
      ]
     },
     "execution_count": 12,
     "metadata": {},
     "output_type": "execute_result"
    },
    {
     "data": {
      "image/png": "[encoded data removed]",
      "text/plain": [
       "<matplotlib.figure.Figure at 0x2294aae92b0>"
      ]
     },
     "metadata": {},
     "output_type": "display_data"
    }
   ],
   "source": [
    "df_comments_by_country = pd.DataFrame(df_comments_by_country)\n",
    "df1 = df_comments_by_country.merge(df_population_selection, left_index=True, right_index=True)\n",
    "df2 = df1.num_comments / df1['2015 [YR2015]'].astype('int') * 10000\n",
    "df2.plot(kind='bar', title='Total Number of Threads by Country * 10000 / Population')"
   ]
  },
  {
   "cell_type": "markdown",
   "metadata": {},
   "source": [
    "The correction by population (total on 2015) makes the activity of switzerland comparable to that of other european countries. UK maintains a distant lead."
   ]
  },
  {
   "cell_type": "markdown",
   "metadata": {},
   "source": [
    "## 2. On time evolution of Reddit activity\n",
    "\n",
    "We are interested to see how growth of user's activity in Reddit has evolved through the years"
   ]
  },
  {
   "cell_type": "code",
   "execution_count": 13,
   "metadata": {
    "collapsed": false
   },
   "outputs": [
    {
     "data": {
      "text/html": [
       "<div>\n",
       "<table border=\"1\" class=\"dataframe\">\n",
       "  <thead>\n",
       "    <tr style=\"text-align: right;\">\n",
       "      <th></th>\n",
       "      <th></th>\n",
       "      <th>count</th>\n",
       "      <th>num_comments</th>\n",
       "      <th>population</th>\n",
       "    </tr>\n",
       "    <tr>\n",
       "      <th>Country</th>\n",
       "      <th>dates</th>\n",
       "      <th></th>\n",
       "      <th></th>\n",
       "      <th></th>\n",
       "    </tr>\n",
       "  </thead>\n",
       "  <tbody>\n",
       "    <tr>\n",
       "      <th rowspan=\"5\" valign=\"top\">CH</th>\n",
       "      <th>2008</th>\n",
       "      <td>179</td>\n",
       "      <td>12.0</td>\n",
       "      <td>0</td>\n",
       "    </tr>\n",
       "    <tr>\n",
       "      <th>2009</th>\n",
       "      <td>198</td>\n",
       "      <td>29.0</td>\n",
       "      <td>0</td>\n",
       "    </tr>\n",
       "    <tr>\n",
       "      <th>2010</th>\n",
       "      <td>98</td>\n",
       "      <td>472.0</td>\n",
       "      <td>0</td>\n",
       "    </tr>\n",
       "    <tr>\n",
       "      <th>2011</th>\n",
       "      <td>334</td>\n",
       "      <td>2885.0</td>\n",
       "      <td>0</td>\n",
       "    </tr>\n",
       "    <tr>\n",
       "      <th>2012</th>\n",
       "      <td>727</td>\n",
       "      <td>6661.0</td>\n",
       "      <td>0</td>\n",
       "    </tr>\n",
       "  </tbody>\n",
       "</table>\n",
       "</div>"
      ],
      "text/plain": [
       "               count  num_comments  population\n",
       "Country dates                                 \n",
       "CH      2008     179          12.0           0\n",
       "        2009     198          29.0           0\n",
       "        2010      98         472.0           0\n",
       "        2011     334        2885.0           0\n",
       "        2012     727        6661.0           0"
      ]
     },
     "execution_count": 13,
     "metadata": {},
     "output_type": "execute_result"
    }
   ],
   "source": [
    "df = df.dropna(axis=0,subset=['created_utc'])\n",
    "dates = [str(datetime.fromtimestamp(t).year) for t in df['created_utc'].astype(int)]\n",
    "df.loc[:,'dates'] = dates\n",
    "df.loc[:,'count'] = 1\n",
    "dfs = df.ix[:,['dates','Country','count','num_comments']]\n",
    "df_by_country_by_year = dfs.groupby(['Country','dates']).sum()\n",
    "df_by_country_by_year.loc[:,'population'] = 0\n",
    "df_by_country_by_year.head()"
   ]
  },
  {
   "cell_type": "code",
   "execution_count": 14,
   "metadata": {
    "collapsed": false
   },
   "outputs": [
    {
     "data": {
      "text/html": [
       "<div>\n",
       "<table border=\"1\" class=\"dataframe\">\n",
       "  <thead>\n",
       "    <tr style=\"text-align: right;\">\n",
       "      <th></th>\n",
       "      <th></th>\n",
       "      <th>count</th>\n",
       "      <th>num_comments</th>\n",
       "      <th>population</th>\n",
       "    </tr>\n",
       "    <tr>\n",
       "      <th>Country</th>\n",
       "      <th>dates</th>\n",
       "      <th></th>\n",
       "      <th></th>\n",
       "      <th></th>\n",
       "    </tr>\n",
       "  </thead>\n",
       "  <tbody>\n",
       "    <tr>\n",
       "      <th rowspan=\"8\" valign=\"top\">CH</th>\n",
       "      <th>2008</th>\n",
       "      <td>179</td>\n",
       "      <td>12.0</td>\n",
       "      <td>7647675</td>\n",
       "    </tr>\n",
       "    <tr>\n",
       "      <th>2009</th>\n",
       "      <td>198</td>\n",
       "      <td>29.0</td>\n",
       "      <td>7743831</td>\n",
       "    </tr>\n",
       "    <tr>\n",
       "      <th>2010</th>\n",
       "      <td>98</td>\n",
       "      <td>472.0</td>\n",
       "      <td>7824909</td>\n",
       "    </tr>\n",
       "    <tr>\n",
       "      <th>2011</th>\n",
       "      <td>334</td>\n",
       "      <td>2885.0</td>\n",
       "      <td>7912398</td>\n",
       "    </tr>\n",
       "    <tr>\n",
       "      <th>2012</th>\n",
       "      <td>727</td>\n",
       "      <td>6661.0</td>\n",
       "      <td>7996861</td>\n",
       "    </tr>\n",
       "    <tr>\n",
       "      <th>2013</th>\n",
       "      <td>1423</td>\n",
       "      <td>13727.0</td>\n",
       "      <td>8089346</td>\n",
       "    </tr>\n",
       "    <tr>\n",
       "      <th>2014</th>\n",
       "      <td>1931</td>\n",
       "      <td>20473.0</td>\n",
       "      <td>8188649</td>\n",
       "    </tr>\n",
       "    <tr>\n",
       "      <th>2015</th>\n",
       "      <td>1762</td>\n",
       "      <td>17353.0</td>\n",
       "      <td>8286976</td>\n",
       "    </tr>\n",
       "    <tr>\n",
       "      <th rowspan=\"8\" valign=\"top\">DE</th>\n",
       "      <th>2008</th>\n",
       "      <td>3384</td>\n",
       "      <td>1451.0</td>\n",
       "      <td>82110097</td>\n",
       "    </tr>\n",
       "    <tr>\n",
       "      <th>2009</th>\n",
       "      <td>3889</td>\n",
       "      <td>2707.0</td>\n",
       "      <td>81902307</td>\n",
       "    </tr>\n",
       "    <tr>\n",
       "      <th>2010</th>\n",
       "      <td>3339</td>\n",
       "      <td>3834.0</td>\n",
       "      <td>81776930</td>\n",
       "    </tr>\n",
       "    <tr>\n",
       "      <th>2011</th>\n",
       "      <td>4987</td>\n",
       "      <td>20318.0</td>\n",
       "      <td>81797673</td>\n",
       "    </tr>\n",
       "    <tr>\n",
       "      <th>2012</th>\n",
       "      <td>9173</td>\n",
       "      <td>59049.0</td>\n",
       "      <td>80425823</td>\n",
       "    </tr>\n",
       "    <tr>\n",
       "      <th>2013</th>\n",
       "      <td>12915</td>\n",
       "      <td>96148.0</td>\n",
       "      <td>82132753</td>\n",
       "    </tr>\n",
       "    <tr>\n",
       "      <th>2014</th>\n",
       "      <td>19886</td>\n",
       "      <td>176574.0</td>\n",
       "      <td>80982500</td>\n",
       "    </tr>\n",
       "    <tr>\n",
       "      <th>2015</th>\n",
       "      <td>19783</td>\n",
       "      <td>219102.0</td>\n",
       "      <td>81413145</td>\n",
       "    </tr>\n",
       "    <tr>\n",
       "      <th rowspan=\"8\" valign=\"top\">ES</th>\n",
       "      <th>2008</th>\n",
       "      <td>3317</td>\n",
       "      <td>1569.0</td>\n",
       "      <td>45954106</td>\n",
       "    </tr>\n",
       "    <tr>\n",
       "      <th>2009</th>\n",
       "      <td>3351</td>\n",
       "      <td>720.0</td>\n",
       "      <td>46362946</td>\n",
       "    </tr>\n",
       "    <tr>\n",
       "      <th>2010</th>\n",
       "      <td>967</td>\n",
       "      <td>549.0</td>\n",
       "      <td>46576897</td>\n",
       "    </tr>\n",
       "    <tr>\n",
       "      <th>2011</th>\n",
       "      <td>1449</td>\n",
       "      <td>4195.0</td>\n",
       "      <td>46742697</td>\n",
       "    </tr>\n",
       "    <tr>\n",
       "      <th>2012</th>\n",
       "      <td>3269</td>\n",
       "      <td>11314.0</td>\n",
       "      <td>46773055</td>\n",
       "    </tr>\n",
       "    <tr>\n",
       "      <th>2013</th>\n",
       "      <td>5199</td>\n",
       "      <td>19002.0</td>\n",
       "      <td>46620045</td>\n",
       "    </tr>\n",
       "    <tr>\n",
       "      <th>2014</th>\n",
       "      <td>7756</td>\n",
       "      <td>27829.0</td>\n",
       "      <td>46480882</td>\n",
       "    </tr>\n",
       "    <tr>\n",
       "      <th>2015</th>\n",
       "      <td>6739</td>\n",
       "      <td>22268.0</td>\n",
       "      <td>46418269</td>\n",
       "    </tr>\n",
       "    <tr>\n",
       "      <th rowspan=\"8\" valign=\"top\">FR</th>\n",
       "      <th>2008</th>\n",
       "      <td>179</td>\n",
       "      <td>103.0</td>\n",
       "      <td>64374990</td>\n",
       "    </tr>\n",
       "    <tr>\n",
       "      <th>2009</th>\n",
       "      <td>913</td>\n",
       "      <td>362.0</td>\n",
       "      <td>64707044</td>\n",
       "    </tr>\n",
       "    <tr>\n",
       "      <th>2010</th>\n",
       "      <td>1588</td>\n",
       "      <td>2668.0</td>\n",
       "      <td>65027512</td>\n",
       "    </tr>\n",
       "    <tr>\n",
       "      <th>2011</th>\n",
       "      <td>3804</td>\n",
       "      <td>16628.0</td>\n",
       "      <td>65342776</td>\n",
       "    </tr>\n",
       "    <tr>\n",
       "      <th>2012</th>\n",
       "      <td>6677</td>\n",
       "      <td>43640.0</td>\n",
       "      <td>65659790</td>\n",
       "    </tr>\n",
       "    <tr>\n",
       "      <th>2013</th>\n",
       "      <td>9414</td>\n",
       "      <td>71530.0</td>\n",
       "      <td>65972097</td>\n",
       "    </tr>\n",
       "    <tr>\n",
       "      <th>2014</th>\n",
       "      <td>16219</td>\n",
       "      <td>172371.0</td>\n",
       "      <td>66495940</td>\n",
       "    </tr>\n",
       "    <tr>\n",
       "      <th>2015</th>\n",
       "      <td>18507</td>\n",
       "      <td>328116.0</td>\n",
       "      <td>66808385</td>\n",
       "    </tr>\n",
       "    <tr>\n",
       "      <th rowspan=\"8\" valign=\"top\">IT</th>\n",
       "      <th>2008</th>\n",
       "      <td>496</td>\n",
       "      <td>98.0</td>\n",
       "      <td>58826731</td>\n",
       "    </tr>\n",
       "    <tr>\n",
       "      <th>2009</th>\n",
       "      <td>3681</td>\n",
       "      <td>470.0</td>\n",
       "      <td>59095365</td>\n",
       "    </tr>\n",
       "    <tr>\n",
       "      <th>2010</th>\n",
       "      <td>4989</td>\n",
       "      <td>455.0</td>\n",
       "      <td>59277417</td>\n",
       "    </tr>\n",
       "    <tr>\n",
       "      <th>2011</th>\n",
       "      <td>1690</td>\n",
       "      <td>4709.0</td>\n",
       "      <td>59379449</td>\n",
       "    </tr>\n",
       "    <tr>\n",
       "      <th>2012</th>\n",
       "      <td>2951</td>\n",
       "      <td>16226.0</td>\n",
       "      <td>59539717</td>\n",
       "    </tr>\n",
       "    <tr>\n",
       "      <th>2013</th>\n",
       "      <td>7356</td>\n",
       "      <td>84649.0</td>\n",
       "      <td>60233948</td>\n",
       "    </tr>\n",
       "    <tr>\n",
       "      <th>2014</th>\n",
       "      <td>13299</td>\n",
       "      <td>190584.0</td>\n",
       "      <td>60789140</td>\n",
       "    </tr>\n",
       "    <tr>\n",
       "      <th>2015</th>\n",
       "      <td>13947</td>\n",
       "      <td>204854.0</td>\n",
       "      <td>60802085</td>\n",
       "    </tr>\n",
       "    <tr>\n",
       "      <th rowspan=\"8\" valign=\"top\">UK</th>\n",
       "      <th>2008</th>\n",
       "      <td>680</td>\n",
       "      <td>812.0</td>\n",
       "      <td>61806995</td>\n",
       "    </tr>\n",
       "    <tr>\n",
       "      <th>2009</th>\n",
       "      <td>3529</td>\n",
       "      <td>8552.0</td>\n",
       "      <td>62276270</td>\n",
       "    </tr>\n",
       "    <tr>\n",
       "      <th>2010</th>\n",
       "      <td>12312</td>\n",
       "      <td>93589.0</td>\n",
       "      <td>62766365</td>\n",
       "    </tr>\n",
       "    <tr>\n",
       "      <th>2011</th>\n",
       "      <td>50051</td>\n",
       "      <td>518490.0</td>\n",
       "      <td>63258918</td>\n",
       "    </tr>\n",
       "    <tr>\n",
       "      <th>2012</th>\n",
       "      <td>99303</td>\n",
       "      <td>1113168.0</td>\n",
       "      <td>63700300</td>\n",
       "    </tr>\n",
       "    <tr>\n",
       "      <th>2013</th>\n",
       "      <td>132277</td>\n",
       "      <td>1698755.0</td>\n",
       "      <td>64128226</td>\n",
       "    </tr>\n",
       "    <tr>\n",
       "      <th>2014</th>\n",
       "      <td>156124</td>\n",
       "      <td>2302847.0</td>\n",
       "      <td>64613160</td>\n",
       "    </tr>\n",
       "    <tr>\n",
       "      <th>2015</th>\n",
       "      <td>125370</td>\n",
       "      <td>1968140.0</td>\n",
       "      <td>65138232</td>\n",
       "    </tr>\n",
       "  </tbody>\n",
       "</table>\n",
       "</div>"
      ],
      "text/plain": [
       "                count  num_comments  population\n",
       "Country dates                                  \n",
       "CH      2008      179          12.0     7647675\n",
       "        2009      198          29.0     7743831\n",
       "        2010       98         472.0     7824909\n",
       "        2011      334        2885.0     7912398\n",
       "        2012      727        6661.0     7996861\n",
       "        2013     1423       13727.0     8089346\n",
       "        2014     1931       20473.0     8188649\n",
       "        2015     1762       17353.0     8286976\n",
       "DE      2008     3384        1451.0    82110097\n",
       "        2009     3889        2707.0    81902307\n",
       "        2010     3339        3834.0    81776930\n",
       "        2011     4987       20318.0    81797673\n",
       "        2012     9173       59049.0    80425823\n",
       "        2013    12915       96148.0    82132753\n",
       "        2014    19886      176574.0    80982500\n",
       "        2015    19783      219102.0    81413145\n",
       "ES      2008     3317        1569.0    45954106\n",
       "        2009     3351         720.0    46362946\n",
       "        2010      967         549.0    46576897\n",
       "        2011     1449        4195.0    46742697\n",
       "        2012     3269       11314.0    46773055\n",
       "        2013     5199       19002.0    46620045\n",
       "        2014     7756       27829.0    46480882\n",
       "        2015     6739       22268.0    46418269\n",
       "FR      2008      179         103.0    64374990\n",
       "        2009      913         362.0    64707044\n",
       "        2010     1588        2668.0    65027512\n",
       "        2011     3804       16628.0    65342776\n",
       "        2012     6677       43640.0    65659790\n",
       "        2013     9414       71530.0    65972097\n",
       "        2014    16219      172371.0    66495940\n",
       "        2015    18507      328116.0    66808385\n",
       "IT      2008      496          98.0    58826731\n",
       "        2009     3681         470.0    59095365\n",
       "        2010     4989         455.0    59277417\n",
       "        2011     1690        4709.0    59379449\n",
       "        2012     2951       16226.0    59539717\n",
       "        2013     7356       84649.0    60233948\n",
       "        2014    13299      190584.0    60789140\n",
       "        2015    13947      204854.0    60802085\n",
       "UK      2008      680         812.0    61806995\n",
       "        2009     3529        8552.0    62276270\n",
       "        2010    12312       93589.0    62766365\n",
       "        2011    50051      518490.0    63258918\n",
       "        2012    99303     1113168.0    63700300\n",
       "        2013   132277     1698755.0    64128226\n",
       "        2014   156124     2302847.0    64613160\n",
       "        2015   125370     1968140.0    65138232"
      ]
     },
     "execution_count": 14,
     "metadata": {},
     "output_type": "execute_result"
    }
   ],
   "source": [
    "df_by_country_by_year2 = df_by_country_by_year.copy()\n",
    "list_country_names = ['Switzerland','United Kingdom','Germany','France','Italy','Spain']\n",
    "list_country_codes = ['CH','UK','DE','FR','IT','ES']\n",
    "list_years = ['2008','2009','2010','2011','2012','2013','2014','2015']\n",
    "\n",
    "for i in range(len(list_country_names)):\n",
    "    for year in list_years:\n",
    "        population = df_population.ix[list_country_names[i] ,year + ' [YR' + year +']']\n",
    "        df_by_country_by_year2.loc[(list_country_codes[i], year), 'population'] = int(population)\n",
    "        \n",
    "df_by_country_by_year2 = df_by_country_by_year2.query('population > 0')\n",
    "df_by_country_by_year2"
   ]
  },
  {
   "cell_type": "code",
   "execution_count": 15,
   "metadata": {
    "collapsed": false
   },
   "outputs": [
    {
     "name": "stdout",
     "output_type": "stream",
     "text": [
      "[{\"name\":\"CH\",\"region:\"CH\",\"count\":[[2008,179.0],[2009,198.0],[2010,98.0],[2011,334.0],[2012,727.0],[2013,1423.0],[2014,1931.0],[2015,1762.0]],\"num_comments\":[[2008,12.0],[2009,29.0],[2010,472.0],[2011,2885.0],[2012,6661.0],[2013,13727.0],[2014,20473.0],[2015,17353.0]],\"population\":[[2008,7647675.0],[2009,7743831.0],[2010,7824909.0],[2011,7912398.0],[2012,7996861.0],[2013,8089346.0],[2014,8188649.0],[2015,8286976.0]]},{\"name\":\"UK\",\"region:\"UK\",\"count\":[[2008,680.0],[2009,3529.0],[2010,12312.0],[2011,50051.0],[2012,99303.0],[2013,132277.0],[2014,156124.0],[2015,125370.0]],\"num_comments\":[[2008,812.0],[2009,8552.0],[2010,93589.0],[2011,518490.0],[2012,1113168.0],[2013,1698755.0],[2014,2302847.0],[2015,1968140.0]],\"population\":[[2008,61806995.0],[2009,62276270.0],[2010,62766365.0],[2011,63258918.0],[2012,63700300.0],[2013,64128226.0],[2014,64613160.0],[2015,65138232.0]]},{\"name\":\"DE\",\"region:\"DE\",\"count\":[[2008,3384.0],[2009,3889.0],[2010,3339.0],[2011,4987.0],[2012,9173.0],[2013,12915.0],[2014,19886.0],[2015,19783.0]],\"num_comments\":[[2008,1451.0],[2009,2707.0],[2010,3834.0],[2011,20318.0],[2012,59049.0],[2013,96148.0],[2014,176574.0],[2015,219102.0]],\"population\":[[2008,82110097.0],[2009,81902307.0],[2010,81776930.0],[2011,81797673.0],[2012,80425823.0],[2013,82132753.0],[2014,80982500.0],[2015,81413145.0]]},{\"name\":\"FR\",\"region:\"FR\",\"count\":[[2008,179.0],[2009,913.0],[2010,1588.0],[2011,3804.0],[2012,6677.0],[2013,9414.0],[2014,16219.0],[2015,18507.0]],\"num_comments\":[[2008,103.0],[2009,362.0],[2010,2668.0],[2011,16628.0],[2012,43640.0],[2013,71530.0],[2014,172371.0],[2015,328116.0]],\"population\":[[2008,64374990.0],[2009,64707044.0],[2010,65027512.0],[2011,65342776.0],[2012,65659790.0],[2013,65972097.0],[2014,66495940.0],[2015,66808385.0]]},{\"name\":\"IT\",\"region:\"IT\",\"count\":[[2008,496.0],[2009,3681.0],[2010,4989.0],[2011,1690.0],[2012,2951.0],[2013,7356.0],[2014,13299.0],[2015,13947.0]],\"num_comments\":[[2008,98.0],[2009,470.0],[2010,455.0],[2011,4709.0],[2012,16226.0],[2013,84649.0],[2014,190584.0],[2015,204854.0]],\"population\":[[2008,58826731.0],[2009,59095365.0],[2010,59277417.0],[2011,59379449.0],[2012,59539717.0],[2013,60233948.0],[2014,60789140.0],[2015,60802085.0]]},{\"name\":\"ES\",\"region:\"ES\",\"count\":[[2008,3317.0],[2009,3351.0],[2010,967.0],[2011,1449.0],[2012,3269.0],[2013,5199.0],[2014,7756.0],[2015,6739.0]],\"num_comments\":[[2008,1569.0],[2009,720.0],[2010,549.0],[2011,4195.0],[2012,11314.0],[2013,19002.0],[2014,27829.0],[2015,22268.0]],\"population\":[[2008,45954106.0],[2009,46362946.0],[2010,46576897.0],[2011,46742697.0],[2012,46773055.0],[2013,46620045.0],[2014,46480882.0],[2015,46418269.0]]}]\n"
     ]
    }
   ],
   "source": [
    "# Create Json -> CUSTOM LOOP BECAUSE THE DATA NEEDS A VERY PARTICULAR FORMAT\n",
    "\n",
    "j = '['\n",
    "for c in list_country_codes:\n",
    "    j = j + '{\"name\":\"' + c + '\",\"region:\"' + c + '\",'\n",
    "    for n in df_by_country_by_year2.columns:\n",
    "        j = j + '\"' + n + '\":['\n",
    "        for y in list_years:\n",
    "            j = j + '[' + str(y) + ',' + str(df_by_country_by_year2.loc[(c,y),n]) + '],'\n",
    "        j = j[0:-1] + '],'   \n",
    "    j = j[0:-1] + '},'\n",
    "j = j[0:-1] + ']'\n",
    "\n",
    "print(j)"
   ]
  },
  {
   "cell_type": "code",
   "execution_count": 16,
   "metadata": {
    "collapsed": false
   },
   "outputs": [],
   "source": [
    "with open(\"nations.json\", \"w\") as text_file:\n",
    "    text_file.write(j)"
   ]
  },
  {
   "cell_type": "code",
   "execution_count": null,
   "metadata": {
    "collapsed": true
   },
   "outputs": [],
   "source": []
  }
 ],
 "metadata": {
  "anaconda-cloud": {},
  "kernelspec": {
   "display_name": "Python [conda root]",
   "language": "python",
   "name": "conda-root-py"
  },
  "language_info": {
   "codemirror_mode": {
    "name": "ipython",
    "version": 3
   },
   "file_extension": ".py",
   "mimetype": "text/x-python",
   "name": "python",
   "nbconvert_exporter": "python",
   "pygments_lexer": "ipython3",
   "version": "3.5.2"
  }
 },
 "nbformat": 4,
 "nbformat_minor": 1
}
