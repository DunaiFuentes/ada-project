{
 "cells": [
  {
   "cell_type": "markdown",
   "metadata": {},
   "source": [
    "## Discontinued!\n",
    "\n",
    "**The reason** is that the API is limited to a certain variable number of comments per sub-reddit, always bellow 1000. This has been comfirmed for the channel 'funny' which is know to be one of the most popular subreddits.\n",
    "\n",
    "Many workarounds had been tried in order to surpass this limit, as one of the reasons to choose PRAW was the promise to do so. However, our attemps had not resulted victorious."
   ]
  },
  {
   "cell_type": "code",
   "execution_count": null,
   "metadata": {
    "collapsed": true
   },
   "outputs": [],
   "source": []
  },
  {
   "cell_type": "markdown",
   "metadata": {},
   "source": [
    "# Extract info from the subreddits using PRAW"
   ]
  },
  {
   "cell_type": "markdown",
   "metadata": {},
   "source": [
    "In this section, we will extract all the submissions and comments for each of the above subreddits. For ease of use, we use Python Reddit API Wrapper (PRAW) module to extract all the comments.\n",
    "\n",
    "Usage of Reddit API requires authentication through 'Oauth'. An unique user agent is required along with a client id and secret (which is generated when an Reddit application is created)."
   ]
  },
  {
   "cell_type": "markdown",
   "metadata": {},
   "source": [
    "### 1. Loading"
   ]
  },
  {
   "cell_type": "code",
   "execution_count": 1,
   "metadata": {
    "collapsed": false
   },
   "outputs": [
    {
     "name": "stdout",
     "output_type": "stream",
     "text": [
      "['Switzerland', 'AskSwitzerland', 'Basel', 'Bern', 'BielBienne', 'Buenzli', 'Frauenfeld', 'Fribourg', 'Geneva', 'Liestal', 'Luzern', 'Morcote', 'Neuchatel', 'Schaffhausen', 'SanktGallen', 'Schwiiz', 'Solothurn', 'Stans', 'Suisse', 'Thun', 'Ticino', 'Winterthur', 'Zermatt', 'Zug', 'Zurich', 'Breitling', 'CHTrees', 'FCBasel', 'MatterhornPorn', 'Migros', 'Schweiz', 'SwissArmy', 'SwissArmyKnives', 'SwissBuyers', 'SwissGaming', 'SwissGuns', 'SwissHockey', 'SwissESports', 'SwissMountainDogs', 'SwissNews', 'SwissProblems', 'SwissRap', 'SwissSuperLeague', 'SwissHistory', 'CERN', 'EPFL', 'ETHZ', 'UZH']\n"
     ]
    }
   ],
   "source": [
    "import numpy as np\n",
    "subReddits = np.loadtxt(\"Swiss_SR.csv\", delimiter=\",\", dtype=bytes).astype(str)\n",
    "subReddits = subReddits.tolist()\n",
    "print(subReddits)"
   ]
  },
  {
   "cell_type": "markdown",
   "metadata": {},
   "source": [
    "### 2. Using the API"
   ]
  },
  {
   "cell_type": "code",
   "execution_count": 2,
   "metadata": {
    "collapsed": true
   },
   "outputs": [],
   "source": [
    "# Definitions\n",
    "my_user_agent = \"ada:dvd_ada:v1.0.0 (by /u/dk01reddit)\"\n",
    "my_client_id = \"\"\n",
    "my_client_secret = \"\"\n",
    "my_username = \"\"\n",
    "my_password = \"\""
   ]
  },
  {
   "cell_type": "code",
   "execution_count": 3,
   "metadata": {
    "collapsed": true
   },
   "outputs": [],
   "source": [
    "import praw\n",
    "# Create Reddit object\n",
    "r = praw.Reddit(user_agent=my_user_agent,\n",
    "                     client_id=my_client_id,\n",
    "                     client_secret=my_client_secret)"
   ]
  },
  {
   "cell_type": "markdown",
   "metadata": {},
   "source": [
    "Once authenticated, we can get all the comments for each of the subreddits. Let's try with one of them:"
   ]
  },
  {
   "cell_type": "code",
   "execution_count": 8,
   "metadata": {
    "collapsed": false
   },
   "outputs": [
    {
     "data": {
      "text/plain": [
       "'Bern'"
      ]
     },
     "execution_count": 8,
     "metadata": {},
     "output_type": "execute_result"
    }
   ],
   "source": [
    "swiss = r.subreddit(subReddits[3])\n",
    "swiss.display_name"
   ]
  },
  {
   "cell_type": "code",
   "execution_count": 9,
   "metadata": {
    "collapsed": false
   },
   "outputs": [
    {
     "name": "stdout",
     "output_type": "stream",
     "text": [
      "105\n",
      "[1, 2, 3, 1, 2, 1, 1, 1, 2, 3, 4, 5, 1, 1, 2, 3, 4, 5, 1, 2, 1, 2, 3, 4, 1, 2, 3, 4, 5, 1, 2, 3, 4, 5, 1, 2, 1, 2, 3, 1, 2, 3, 4, 1, 2, 3, 1, 1, 1, 2, 1, 1, 2, 3, 4, 5, 6, 1, 1, 2, 3, 1, 1, 2, 3, 1, 2, 3, 1, 2, 3, 4, 5, 6, 7, 8, 1, 2, 3, 1, 1, 2, 3, 4, 5, 1, 1, 2, 3, 1, 1, 2, 1, 1, 1, 1, 1, 1, 1, 2, 1, 2, 1, 2, 3, 4, 5, 6, 7, 8, 9, 10, 11, 12, 1, 2, 3, 1, 2, 1, 2, 1, 1, 2, 1, 1, 2, 3, 4, 5, 6, 1, 2, 1, 2, 1, 2, 3, 1, 1, 2, 1, 2, 1, 2, 3, 4, 5, 6, 7, 8, 9, 1, 1, 1, 2, 1, 2, 1, 1, 1, 2, 3, 4, 5, 1, 2, 3, 4, 5, 1, 2, 3, 1, 2, 3, 4, 5, 6, 1, 2, 3, 4, 1, 2, 3, 4, 1, 2, 3, 4, 1, 2, 3, 4, 1, 2, 3, 1, 2, 1, 2, 1, 2, 3, 1, 2, 3, 4, 5, 1, 2, 3, 4, 1, 2, 3, 4, 1, 2]\n"
     ]
    }
   ],
   "source": [
    "i = 0 #counter submissions\n",
    "nc = list()\n",
    "for submission in swiss.new(limit=10000):\n",
    "    i=i+1\n",
    "    submission.comments.replace_more(limit=0)\n",
    "    j = 0 #counter top-lvl-comments\n",
    "    for top_level_comment in submission.comments:\n",
    "        j=j+1\n",
    "        nc.append(j)\n",
    "print(i)\n",
    "print(nc)"
   ]
  },
  {
   "cell_type": "markdown",
   "metadata": {},
   "source": [
    "We find a total of 105 submissions (or posts) in r/Bern, with different number of top-level-comments"
   ]
  },
  {
   "cell_type": "markdown",
   "metadata": {},
   "source": [
    "### 3. The limit test"
   ]
  },
  {
   "cell_type": "code",
   "execution_count": 11,
   "metadata": {
    "collapsed": false
   },
   "outputs": [
    {
     "name": "stdout",
     "output_type": "stream",
     "text": [
      "871\n"
     ]
    }
   ],
   "source": [
    "#test\n",
    "\n",
    "fun = r.subreddit('funny')\n",
    "i=0\n",
    "for submission in fun.new(limit=5000):\n",
    "    i=i+1\n",
    "    \n",
    "print(i)"
   ]
  },
  {
   "cell_type": "markdown",
   "metadata": {},
   "source": [
    "Indeed, in 'funny' there are many more than that"
   ]
  }
 ],
 "metadata": {
  "kernelspec": {
   "display_name": "Python [Root]",
   "language": "python",
   "name": "Python [Root]"
  },
  "language_info": {
   "codemirror_mode": {
    "name": "ipython",
    "version": 3
   },
   "file_extension": ".py",
   "mimetype": "text/x-python",
   "name": "python",
   "nbconvert_exporter": "python",
   "pygments_lexer": "ipython3",
   "version": "3.5.2"
  }
 },
 "nbformat": 4,
 "nbformat_minor": 1
}
