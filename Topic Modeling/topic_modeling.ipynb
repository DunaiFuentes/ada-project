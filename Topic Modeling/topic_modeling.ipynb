{
 "cells": [
  {
   "cell_type": "markdown",
   "metadata": {},
   "source": [
    "# Topic modeling on reddit comments"
   ]
  },
  {
   "cell_type": "code",
   "execution_count": 1,
   "metadata": {
    "collapsed": true
   },
   "outputs": [],
   "source": [
    "%matplotlib inline\n",
    "import pandas as pd\n",
    "import numpy as np\n",
    "import matplotlib.pyplot as plt\n",
    "import seaborn as sns\n",
    "sns.set_context('notebook')\n",
    "import os\n",
    "import glob\n",
    "import pickle\n",
    "from operator import itemgetter\n",
    "from datetime import datetime\n",
    "from matplotlib.pyplot import cm "
   ]
  },
  {
   "cell_type": "code",
   "execution_count": 2,
   "metadata": {
    "collapsed": true
   },
   "outputs": [],
   "source": [
    "def concat_submissions_comments(path_submissions, path_comments, filename_comments):\n",
    "    all_files = glob.glob(os.path.join(path_submissions, 'part-*'))\n",
    "\n",
    "    dfs = pd.concat([pd.read_csv(f) for f in all_files])\n",
    "    dfs = dfs[dfs.num_comments != 0]\n",
    "\n",
    "    comment_folder = glob.glob(os.path.join(path_comments, filename_comments))\n",
    "    comments_files = [glob.glob(os.path.join(folder, \"part-*\")) for folder in comment_folder]\n",
    "    comments_files_all = [file for sublist in comments_files for file in sublist]\n",
    "\n",
    "    dfc = pd.concat([pd.read_csv(f) for f in comments_files_all])\n",
    "    \n",
    "    return dfs, dfc"
   ]
  },
  {
   "cell_type": "code",
   "execution_count": 3,
   "metadata": {
    "collapsed": true
   },
   "outputs": [],
   "source": [
    "def concat_comments_per_submission(x):\n",
    "    return pd.Series(dict(comments=' '.join(x['body'])))"
   ]
  },
  {
   "cell_type": "code",
   "execution_count": 4,
   "metadata": {
    "collapsed": false
   },
   "outputs": [
    {
     "name": "stderr",
     "output_type": "stream",
     "text": [
      "/Users/vidit/anaconda3/envs/python35/lib/python3.5/site-packages/gensim/utils.py:1015: UserWarning: Pattern library is not installed, lemmatization won't be available.\n",
      "  warnings.warn(\"Pattern library is not installed, lemmatization won't be available.\")\n"
     ]
    }
   ],
   "source": [
    "import nltk\n",
    "import re\n",
    "import string\n",
    "from gensim import corpora, models\n",
    "from nltk.corpus import stopwords\n",
    "from many_stop_words import get_stop_words\n",
    "from collections import defaultdict\n",
    "\n",
    "def preprocessing(text):\n",
    "       #################### Pre-processing ##################\n",
    "    # Removing numbers\n",
    "    text = [re.sub(r'\\d+', '', t) for t in text]\n",
    "\n",
    "    # Tokenization\n",
    "    tokens = [nltk.word_tokenize(doc) for doc in text]\n",
    "    text_tokens = nltk.Text(tokens)\n",
    "\n",
    "    # Stop words removal\n",
    "    extra_stop = set((\"''\", \",\",\":\",\"...\",\".\",\";\",\"``\",\"\\'\",\"^|\",\"la\",\"en\",\"le\",\"et\",\"ist\",\n",
    "                      \"das\",\"nicht\",\"ich\",\"zu\",\"du\",\"es\",\"von\",\"mit\",\"auch\",\"let\",\"man\",\n",
    "                     \"für\", \"den\", \"auf\", \"ein\", \"dass\", \"les\", \"que\",\"un\",\"pas\"))\n",
    "    stops = set(stopwords.words('english')).union(extra_stop)\n",
    "    #Punctuation\n",
    "    stops = set(stops).union(string.punctuation)\n",
    "    #French Stopwords\n",
    "    stops = set(stops).union(get_stop_words('fr'))\n",
    "    #German Stopwords\n",
    "    stops = set(stops).union(get_stop_words('de'))\n",
    "    #Italian Stopwords\n",
    "    stops = set(stops).union(get_stop_words('it'))\n",
    "\n",
    "\n",
    "    filtered_text = [[word for word in t if str(word).lower() not in stops] for t in text_tokens]\n",
    "\n",
    "    # Remove very frequent and very in-frequent words\n",
    "    lower_freq = 10\n",
    "    upper_freq = 1000    \n",
    "    frequency = defaultdict(int)\n",
    "    for text in filtered_text:\n",
    "        for token in text:\n",
    "            frequency[token] += 1\n",
    "    texts = [[token for token in text if frequency[token] > lower_freq and frequency[token] < upper_freq and len(token) != 1]\n",
    "             for text in filtered_text]\n",
    "\n",
    "    # Removing documents less than minimum length\n",
    "    min_length = 0\n",
    "    long_texts = [text for text in texts if len(text)>=min_length]\n",
    "    print(\"No. of documents: {}\".format(len(long_texts)))\n",
    "    return long_texts\n",
    "\n",
    "def topic_modeling(texts, num_topics):\n",
    "\n",
    "\n",
    "    ############## Topic modeling using LDA #################\n",
    "    # Dictionary of all the words\n",
    "    dictionary = corpora.Dictionary(texts)\n",
    "\n",
    "    # Vector representation of each document\n",
    "    corpus = [dictionary.doc2bow(text) for text in texts]\n",
    "\n",
    "    # At this stage, dictionary contains the list of all words, each word with an unique integer id. \n",
    "    # 'corpus' contains for each document a bag of words representation (the number of occurrences of each word).\n",
    "\n",
    "    model = models.LdaModel(corpus, num_topics, id2word=dictionary,passes=4,chunksize=1000)\n",
    "    #model.print_topics()\n",
    "    ########################################################\n",
    "\n",
    "    return model, corpus, dictionary"
   ]
  },
  {
   "cell_type": "markdown",
   "metadata": {},
   "source": [
    "## Switzerland"
   ]
  },
  {
   "cell_type": "code",
   "execution_count": 6,
   "metadata": {
    "collapsed": false
   },
   "outputs": [],
   "source": [
    "path_submissions = \"../data/reddit_swiss_submissions_fullcorpus\"\n",
    "path_comments = '../data'\n",
    "filename_comments = \"reddit_swiss_comments_*\"\n",
    "\n",
    "[dfs_swiss, dfc_swiss] = concat_submissions_comments(path_submissions, path_comments, filename_comments)"
   ]
  },
  {
   "cell_type": "code",
   "execution_count": 7,
   "metadata": {
    "collapsed": false
   },
   "outputs": [],
   "source": [
    "dfsc_swiss = dfs_swiss.merge(dfc_swiss, how='inner', left_on='name', right_on='link_id')\n",
    "cps_swiss = dfsc_swiss.groupby(by='name_x').apply(concat_comments_per_submission)\n",
    "cps_swiss = cps_swiss.reset_index()\n",
    "\n",
    "dfs_name = pd.DataFrame(dfs_swiss[['name', 'title', 'created_utc']])\n",
    "df_aggcomments_swiss = dfs_name.merge(cps_swiss, how='inner', left_on='name', right_on='name_x')\n",
    "del df_aggcomments_swiss['name_x']\n",
    "df_aggcomments_swiss['title_comments'] = df_aggcomments_swiss.apply(lambda x: x['title']+' '+x['comments'], axis=1)\n",
    "#df_aggcomments"
   ]
  },
  {
   "cell_type": "code",
   "execution_count": 8,
   "metadata": {
    "collapsed": false
   },
   "outputs": [],
   "source": [
    "text_swiss = [t for t in df_aggcomments_swiss['title_comments']]\n",
    "pickle.dump(text_swiss,open('swiss_comments.pickle','wb'))"
   ]
  },
  {
   "cell_type": "code",
   "execution_count": 9,
   "metadata": {
    "collapsed": false
   },
   "outputs": [
    {
     "name": "stdout",
     "output_type": "stream",
     "text": [
      "No. of documents: 4825\n"
     ]
    }
   ],
   "source": [
    "text_swiss = pickle.load(open('swiss_comments.pickle','rb'))\n",
    "processed_text = preprocessing(text_swiss)\n"
   ]
  },
  {
   "cell_type": "code",
   "execution_count": 10,
   "metadata": {
    "collapsed": false
   },
   "outputs": [
    {
     "data": {
      "text/plain": [
       "[(0,\n",
       "  '0.023*\"Swisscom\" + 0.017*\"data\" + 0.013*\"internet\" + 0.010*\"ms\" + 0.010*\"network\" + 0.009*\"phone\" + 0.008*\"news\" + 0.007*\"using\" + 0.007*\"Orange\" + 0.007*\"reddit\"'),\n",
       " (1,\n",
       "  '0.018*\"price\" + 0.012*\"cheaper\" + 0.010*\"prices\" + 0.010*\"ticket\" + 0.010*\"card\" + 0.009*\"online\" + 0.008*\".-\" + 0.008*\"order\" + 0.008*\"shop\" + 0.007*\"buying\"'),\n",
       " (2,\n",
       "  '0.010*\"TV\" + 0.007*\"Billag\" + 0.007*\"trains\" + 0.007*\"watch\" + 0.006*\"SBB\" + 0.005*\"app\" + 0.004*\"radio\" + 0.004*\"phone\" + 0.004*\"website\" + 0.004*\"show\"'),\n",
       " (3,\n",
       "  '0.009*\"learn\" + 0.009*\"speaking\" + 0.006*\"languages\" + 0.006*\"french\" + 0.006*\"Italian\" + 0.005*\"canton\" + 0.005*\"school\" + 0.005*\"culture\" + 0.005*\"dialect\" + 0.004*\"english\"'),\n",
       " (4,\n",
       "  '0.007*\"lake\" + 0.006*\"weather\" + 0.006*\"snow\" + 0.006*\"summer\" + 0.006*\"night\" + 0.006*\"Lausanne\" + 0.006*\"area\" + 0.006*\"near\" + 0.006*\"town\" + 0.005*\"walk\"'),\n",
       " (5,\n",
       "  '0.013*\"beautiful\" + 0.012*\"trip\" + 0.011*\"visit\" + 0.010*\"Lucerne\" + 0.010*\"Interlaken\" + 0.010*\"recommend\" + 0.009*\"Zermatt\" + 0.009*\"hiking\" + 0.008*\"travel\" + 0.007*\"mountain\"'),\n",
       " (6,\n",
       "  '0.024*\"CERN\" + 0.014*\"//www.youtube.com/watch\" + 0.013*\"video\" + 0.010*\"LHC\" + 0.008*\"CMS\" + 0.007*\"aid\" + 0.007*\"energy\" + 0.005*\"TeV\" + 0.005*\"particle\" + 0.005*\"test\"'),\n",
       " (7,\n",
       "  '0.020*\"army\" + 0.017*\"gun\" + 0.015*\"military\" + 0.014*\"guns\" + 0.008*\"police\" + 0.007*\"shooting\" + 0.006*\"women\" + 0.005*\"shoot\" + 0.005*\"carry\" + 0.005*\"men\"'),\n",
       " (8,\n",
       "  '0.005*\"initiative\" + 0.005*\"government\" + 0.005*\"political\" + 0.004*\"change\" + 0.004*\"opinion\" + 0.004*\"SVP\" + 0.004*\"party\" + 0.003*\"argument\" + 0.003*\"rights\" + 0.003*\"democracy\"'),\n",
       " (9,\n",
       "  '0.021*\"Schweiz\" + 0.014*\"hat\" + 0.012*\"nur\" + 0.011*\"noch\" + 0.009*\"Schweizer\" + 0.009*\"ab\" + 0.008*\"mal\" + 0.008*\"keine\" + 0.008*\"haben\" + 0.008*\"dann\"'),\n",
       " (10,\n",
       "  '0.019*\"Umgebungskarte\" + 0.018*\"fireworks\" + 0.016*\"Richtung\" + 0.016*\"^or\" + 0.015*\"^delete\" + 0.015*\"subject=AutoWikibot\" + 0.015*\"to=autowikibot\" + 0.014*\"d.\" + 0.013*\"^of\" + 0.012*\"//www.np.reddit.com/message/compose\"'),\n",
       " (11,\n",
       "  '0.006*\"insurance\" + 0.005*\"company\" + 0.004*\"permit\" + 0.004*\"months\" + 0.004*\"jobs\" + 0.004*\"companies\" + 0.004*\"working\" + 0.004*\"taxes\" + 0.004*\"experience\" + 0.004*\"school\"'),\n",
       " (12,\n",
       "  '0.007*\"friends\" + 0.007*\"Lausanne\" + 0.006*\"meet\" + 0.005*\"Zürich\" + 0.004*\"driving\" + 0.004*\"friend\" + 0.004*\"bar\" + 0.004*\"room\" + 0.004*\"Maybe\" + 0.003*\"thanks\"'),\n",
       " (13,\n",
       "  '0.008*\"bank\" + 0.006*\"gold\" + 0.006*\"police\" + 0.005*\"account\" + 0.004*\"post\" + 0.004*\"banks\" + 0.004*\"currency\" + 0.004*\"energy\" + 0.004*\"call\" + 0.003*\"number\"'),\n",
       " (14,\n",
       "  '0.009*\"food\" + 0.009*\"water\" + 0.008*\"chocolate\" + 0.006*\"beer\" + 0.005*\"Migros\" + 0.005*\"drink\" + 0.004*\"Coop\" + 0.004*\"eat\" + 0.004*\"meat\" + 0.004*\"love\"')]"
      ]
     },
     "execution_count": 10,
     "metadata": {},
     "output_type": "execute_result"
    }
   ],
   "source": [
    "num_topics = 15\n",
    "\n",
    "[model_swiss, corpus, dictionary] = topic_modeling(processed_text, num_topics)\n",
    "model_swiss.print_topics()"
   ]
  },
  {
   "cell_type": "code",
   "execution_count": 14,
   "metadata": {
    "collapsed": false
   },
   "outputs": [],
   "source": [
    "most_likely_topic_per_doc = []\n",
    "for text in processed_text:\n",
    "    topic_per_doc = model_swiss.get_document_topics(dictionary.doc2bow(text))\n",
    "    most_likely_topic_per_doc.append(max(topic_per_doc,key=itemgetter(1))[0])\n",
    "\n",
    "df_aggcomments_swiss['topic_number'] = most_likely_topic_per_doc\n",
    "\n"
   ]
  },
  {
   "cell_type": "code",
   "execution_count": 15,
   "metadata": {
    "collapsed": false
   },
   "outputs": [],
   "source": [
    "dates = [datetime.fromtimestamp(t) for t in df_aggcomments_swiss['created_utc'].astype(int)]\n",
    "df_aggcomments_swiss['dates'] = dates\n",
    "month_dic = ['Jan','Feb','March','April','May','June','July','August','Sept','Oct','Nov','Dec']\n",
    "# month_dic[str(df_aggcomments_swiss.dates.iloc[0].year)]\n",
    "df_aggcomments_swiss['year'] = [str(df_aggcomments_swiss.dates.iloc[i].year) for i in range(len(df_aggcomments_swiss))]"
   ]
  },
  {
   "cell_type": "code",
   "execution_count": 80,
   "metadata": {
    "collapsed": false
   },
   "outputs": [
    {
     "data": {
      "text/plain": [
       "<matplotlib.text.Text at 0x122f39710>"
      ]
     },
     "execution_count": 80,
     "metadata": {},
     "output_type": "execute_result"
    },
    {
     "data": {
      "image/png": "[encoded data removed]",
      "text/plain": [
       "<matplotlib.figure.Figure at 0x120ccd400>"
      ]
     },
     "metadata": {},
     "output_type": "display_data"
    }
   ],
   "source": [
    "topic_freq_by_month_year = pd.DataFrame({'freq':df_aggcomments_swiss.groupby(['year','topic_number']).size()})\n",
    "ddf = topic_freq_by_month_year.reset_index()\n",
    "\n",
    "color=iter(cm.rainbow(np.linspace(0,1,6)))\n",
    "\n",
    "interesting_topics = [11,12,14,8,5,7]\n",
    "for group in ddf.groupby('topic_number'):\n",
    "    if group[0] in interesting_topics:\n",
    "        c=next(color)\n",
    "        \n",
    "        plt.plot(group[1].year.values,group[1].freq,c=c,label='Topic No. - %s' % group[0])\n",
    "        plt.ticklabel_format(style='plain',axis='x')\n",
    "\n",
    "plt.legend(loc=2)\n",
    "plt.xticks(range(2008,2016),['2008','2009','2010','2011','2012','2013','2014','2015'])\n",
    "plt.ylabel('Topic Frequency',fontsize=18)\n",
    "plt.xlabel('Year',fontsize=18)"
   ]
  },
  {
   "cell_type": "markdown",
   "metadata": {},
   "source": [
    "## UK"
   ]
  },
  {
   "cell_type": "code",
   "execution_count": 81,
   "metadata": {
    "collapsed": false
   },
   "outputs": [],
   "source": [
    "path_submissions = \"../data/reddit_uk_submissions_fullcorpus\"\n",
    "path_comments = '../data'\n",
    "filename_comments = \"reddit_uk_comments_*\"\n",
    "\n",
    "[dfs_uk, dfc_uk] = concat_submissions_comments(path_submissions, path_comments, filename_comments)"
   ]
  },
  {
   "cell_type": "code",
   "execution_count": 82,
   "metadata": {
    "collapsed": false
   },
   "outputs": [],
   "source": [
    "del dfs_uk\n",
    "del dfc_uk"
   ]
  },
  {
   "cell_type": "code",
   "execution_count": 12,
   "metadata": {
    "collapsed": false
   },
   "outputs": [
    {
     "ename": "KeyboardInterrupt",
     "evalue": "",
     "output_type": "error",
     "traceback": [
      "\u001b[0;31m---------------------------------------------------------------------------\u001b[0m",
      "\u001b[0;31mKeyboardInterrupt\u001b[0m                         Traceback (most recent call last)",
      "\u001b[0;32m<ipython-input-12-c2876688f462>\u001b[0m in \u001b[0;36m<module>\u001b[0;34m()\u001b[0m\n\u001b[1;32m      1\u001b[0m \u001b[0mdfsc_uk\u001b[0m \u001b[0;34m=\u001b[0m \u001b[0mdfs_uk\u001b[0m\u001b[0;34m.\u001b[0m\u001b[0mmerge\u001b[0m\u001b[0;34m(\u001b[0m\u001b[0mdfc_uk\u001b[0m\u001b[0;34m,\u001b[0m \u001b[0mhow\u001b[0m\u001b[0;34m=\u001b[0m\u001b[0;34m'inner'\u001b[0m\u001b[0;34m,\u001b[0m \u001b[0mleft_on\u001b[0m\u001b[0;34m=\u001b[0m\u001b[0;34m'name'\u001b[0m\u001b[0;34m,\u001b[0m \u001b[0mright_on\u001b[0m\u001b[0;34m=\u001b[0m\u001b[0;34m'link_id'\u001b[0m\u001b[0;34m)\u001b[0m\u001b[0;34m\u001b[0m\u001b[0m\n\u001b[0;32m----> 2\u001b[0;31m \u001b[0mcps_uk\u001b[0m \u001b[0;34m=\u001b[0m \u001b[0mdfsc_uk\u001b[0m\u001b[0;34m.\u001b[0m\u001b[0mgroupby\u001b[0m\u001b[0;34m(\u001b[0m\u001b[0mby\u001b[0m\u001b[0;34m=\u001b[0m\u001b[0;34m'name_x'\u001b[0m\u001b[0;34m)\u001b[0m\u001b[0;34m.\u001b[0m\u001b[0mapply\u001b[0m\u001b[0;34m(\u001b[0m\u001b[0mconcat_comments_per_submission\u001b[0m\u001b[0;34m)\u001b[0m\u001b[0;34m\u001b[0m\u001b[0m\n\u001b[0m\u001b[1;32m      3\u001b[0m \u001b[0mcps_uk\u001b[0m \u001b[0;34m=\u001b[0m \u001b[0mcps_uk\u001b[0m\u001b[0;34m.\u001b[0m\u001b[0mreset_index\u001b[0m\u001b[0;34m(\u001b[0m\u001b[0;34m)\u001b[0m\u001b[0;34m\u001b[0m\u001b[0m\n\u001b[1;32m      4\u001b[0m \u001b[0;34m\u001b[0m\u001b[0m\n\u001b[1;32m      5\u001b[0m \u001b[0mdfs_name\u001b[0m \u001b[0;34m=\u001b[0m \u001b[0mpd\u001b[0m\u001b[0;34m.\u001b[0m\u001b[0mDataFrame\u001b[0m\u001b[0;34m(\u001b[0m\u001b[0mdfs_uk\u001b[0m\u001b[0;34m[\u001b[0m\u001b[0;34m[\u001b[0m\u001b[0;34m'name'\u001b[0m\u001b[0;34m,\u001b[0m \u001b[0;34m'title'\u001b[0m\u001b[0;34m]\u001b[0m\u001b[0;34m]\u001b[0m\u001b[0;34m)\u001b[0m\u001b[0;34m\u001b[0m\u001b[0m\n",
      "\u001b[0;32m/Users/vidit/anaconda3/envs/python35/lib/python3.5/site-packages/pandas/core/groupby.py\u001b[0m in \u001b[0;36mapply\u001b[0;34m(self, func, *args, **kwargs)\u001b[0m\n\u001b[1;32m    649\u001b[0m         \u001b[0;31m# ignore SettingWithCopy here in case the user mutates\u001b[0m\u001b[0;34m\u001b[0m\u001b[0;34m\u001b[0m\u001b[0m\n\u001b[1;32m    650\u001b[0m         \u001b[0;32mwith\u001b[0m \u001b[0moption_context\u001b[0m\u001b[0;34m(\u001b[0m\u001b[0;34m'mode.chained_assignment'\u001b[0m\u001b[0;34m,\u001b[0m \u001b[0;32mNone\u001b[0m\u001b[0;34m)\u001b[0m\u001b[0;34m:\u001b[0m\u001b[0;34m\u001b[0m\u001b[0m\n\u001b[0;32m--> 651\u001b[0;31m             \u001b[0;32mreturn\u001b[0m \u001b[0mself\u001b[0m\u001b[0;34m.\u001b[0m\u001b[0m_python_apply_general\u001b[0m\u001b[0;34m(\u001b[0m\u001b[0mf\u001b[0m\u001b[0;34m)\u001b[0m\u001b[0;34m\u001b[0m\u001b[0m\n\u001b[0m\u001b[1;32m    652\u001b[0m \u001b[0;34m\u001b[0m\u001b[0m\n\u001b[1;32m    653\u001b[0m     \u001b[0;32mdef\u001b[0m \u001b[0m_python_apply_general\u001b[0m\u001b[0;34m(\u001b[0m\u001b[0mself\u001b[0m\u001b[0;34m,\u001b[0m \u001b[0mf\u001b[0m\u001b[0;34m)\u001b[0m\u001b[0;34m:\u001b[0m\u001b[0;34m\u001b[0m\u001b[0m\n",
      "\u001b[0;32m/Users/vidit/anaconda3/envs/python35/lib/python3.5/site-packages/pandas/core/groupby.py\u001b[0m in \u001b[0;36m_python_apply_general\u001b[0;34m(self, f)\u001b[0m\n\u001b[1;32m    653\u001b[0m     \u001b[0;32mdef\u001b[0m \u001b[0m_python_apply_general\u001b[0m\u001b[0;34m(\u001b[0m\u001b[0mself\u001b[0m\u001b[0;34m,\u001b[0m \u001b[0mf\u001b[0m\u001b[0;34m)\u001b[0m\u001b[0;34m:\u001b[0m\u001b[0;34m\u001b[0m\u001b[0m\n\u001b[1;32m    654\u001b[0m         keys, values, mutated = self.grouper.apply(f, self._selected_obj,\n\u001b[0;32m--> 655\u001b[0;31m                                                    self.axis)\n\u001b[0m\u001b[1;32m    656\u001b[0m \u001b[0;34m\u001b[0m\u001b[0m\n\u001b[1;32m    657\u001b[0m         return self._wrap_applied_output(\n",
      "\u001b[0;32m/Users/vidit/anaconda3/envs/python35/lib/python3.5/site-packages/pandas/core/groupby.py\u001b[0m in \u001b[0;36mapply\u001b[0;34m(self, f, data, axis)\u001b[0m\n\u001b[1;32m   1509\u001b[0m                 hasattr(splitter, 'fast_apply') and axis == 0):\n\u001b[1;32m   1510\u001b[0m             \u001b[0;32mtry\u001b[0m\u001b[0;34m:\u001b[0m\u001b[0;34m\u001b[0m\u001b[0m\n\u001b[0;32m-> 1511\u001b[0;31m                 \u001b[0mvalues\u001b[0m\u001b[0;34m,\u001b[0m \u001b[0mmutated\u001b[0m \u001b[0;34m=\u001b[0m \u001b[0msplitter\u001b[0m\u001b[0;34m.\u001b[0m\u001b[0mfast_apply\u001b[0m\u001b[0;34m(\u001b[0m\u001b[0mf\u001b[0m\u001b[0;34m,\u001b[0m \u001b[0mgroup_keys\u001b[0m\u001b[0;34m)\u001b[0m\u001b[0;34m\u001b[0m\u001b[0m\n\u001b[0m\u001b[1;32m   1512\u001b[0m                 \u001b[0;32mreturn\u001b[0m \u001b[0mgroup_keys\u001b[0m\u001b[0;34m,\u001b[0m \u001b[0mvalues\u001b[0m\u001b[0;34m,\u001b[0m \u001b[0mmutated\u001b[0m\u001b[0;34m\u001b[0m\u001b[0m\n\u001b[1;32m   1513\u001b[0m             \u001b[0;32mexcept\u001b[0m \u001b[0;34m(\u001b[0m\u001b[0mlib\u001b[0m\u001b[0;34m.\u001b[0m\u001b[0mInvalidApply\u001b[0m\u001b[0;34m)\u001b[0m\u001b[0;34m:\u001b[0m\u001b[0;34m\u001b[0m\u001b[0m\n",
      "\u001b[0;32m/Users/vidit/anaconda3/envs/python35/lib/python3.5/site-packages/pandas/core/groupby.py\u001b[0m in \u001b[0;36mfast_apply\u001b[0;34m(self, f, names)\u001b[0m\n\u001b[1;32m   3928\u001b[0m             \u001b[0;32mreturn\u001b[0m \u001b[0;34m[\u001b[0m\u001b[0;34m]\u001b[0m\u001b[0;34m,\u001b[0m \u001b[0;32mTrue\u001b[0m\u001b[0;34m\u001b[0m\u001b[0m\n\u001b[1;32m   3929\u001b[0m \u001b[0;34m\u001b[0m\u001b[0m\n\u001b[0;32m-> 3930\u001b[0;31m         \u001b[0msdata\u001b[0m \u001b[0;34m=\u001b[0m \u001b[0mself\u001b[0m\u001b[0;34m.\u001b[0m\u001b[0m_get_sorted_data\u001b[0m\u001b[0;34m(\u001b[0m\u001b[0;34m)\u001b[0m\u001b[0;34m\u001b[0m\u001b[0m\n\u001b[0m\u001b[1;32m   3931\u001b[0m         \u001b[0mresults\u001b[0m\u001b[0;34m,\u001b[0m \u001b[0mmutated\u001b[0m \u001b[0;34m=\u001b[0m \u001b[0mlib\u001b[0m\u001b[0;34m.\u001b[0m\u001b[0mapply_frame_axis0\u001b[0m\u001b[0;34m(\u001b[0m\u001b[0msdata\u001b[0m\u001b[0;34m,\u001b[0m \u001b[0mf\u001b[0m\u001b[0;34m,\u001b[0m \u001b[0mnames\u001b[0m\u001b[0;34m,\u001b[0m \u001b[0mstarts\u001b[0m\u001b[0;34m,\u001b[0m \u001b[0mends\u001b[0m\u001b[0;34m)\u001b[0m\u001b[0;34m\u001b[0m\u001b[0m\n\u001b[1;32m   3932\u001b[0m \u001b[0;34m\u001b[0m\u001b[0m\n",
      "\u001b[0;32m/Users/vidit/anaconda3/envs/python35/lib/python3.5/site-packages/pandas/core/groupby.py\u001b[0m in \u001b[0;36m_get_sorted_data\u001b[0;34m(self)\u001b[0m\n\u001b[1;32m   3896\u001b[0m \u001b[0;34m\u001b[0m\u001b[0m\n\u001b[1;32m   3897\u001b[0m     \u001b[0;32mdef\u001b[0m \u001b[0m_get_sorted_data\u001b[0m\u001b[0;34m(\u001b[0m\u001b[0mself\u001b[0m\u001b[0;34m)\u001b[0m\u001b[0;34m:\u001b[0m\u001b[0;34m\u001b[0m\u001b[0m\n\u001b[0;32m-> 3898\u001b[0;31m         \u001b[0;32mreturn\u001b[0m \u001b[0mself\u001b[0m\u001b[0;34m.\u001b[0m\u001b[0mdata\u001b[0m\u001b[0;34m.\u001b[0m\u001b[0mtake\u001b[0m\u001b[0;34m(\u001b[0m\u001b[0mself\u001b[0m\u001b[0;34m.\u001b[0m\u001b[0msort_idx\u001b[0m\u001b[0;34m,\u001b[0m \u001b[0maxis\u001b[0m\u001b[0;34m=\u001b[0m\u001b[0mself\u001b[0m\u001b[0;34m.\u001b[0m\u001b[0maxis\u001b[0m\u001b[0;34m,\u001b[0m \u001b[0mconvert\u001b[0m\u001b[0;34m=\u001b[0m\u001b[0;32mFalse\u001b[0m\u001b[0;34m)\u001b[0m\u001b[0;34m\u001b[0m\u001b[0m\n\u001b[0m\u001b[1;32m   3899\u001b[0m \u001b[0;34m\u001b[0m\u001b[0m\n\u001b[1;32m   3900\u001b[0m     \u001b[0;32mdef\u001b[0m \u001b[0m_chop\u001b[0m\u001b[0;34m(\u001b[0m\u001b[0mself\u001b[0m\u001b[0;34m,\u001b[0m \u001b[0msdata\u001b[0m\u001b[0;34m,\u001b[0m \u001b[0mslice_obj\u001b[0m\u001b[0;34m)\u001b[0m\u001b[0;34m:\u001b[0m\u001b[0;34m\u001b[0m\u001b[0m\n",
      "\u001b[0;32m/Users/vidit/anaconda3/envs/python35/lib/python3.5/site-packages/pandas/core/generic.py\u001b[0m in \u001b[0;36mtake\u001b[0;34m(self, indices, axis, convert, is_copy, **kwargs)\u001b[0m\n\u001b[1;32m   1631\u001b[0m         new_data = self._data.take(indices,\n\u001b[1;32m   1632\u001b[0m                                    \u001b[0maxis\u001b[0m\u001b[0;34m=\u001b[0m\u001b[0mself\u001b[0m\u001b[0;34m.\u001b[0m\u001b[0m_get_block_manager_axis\u001b[0m\u001b[0;34m(\u001b[0m\u001b[0maxis\u001b[0m\u001b[0;34m)\u001b[0m\u001b[0;34m,\u001b[0m\u001b[0;34m\u001b[0m\u001b[0m\n\u001b[0;32m-> 1633\u001b[0;31m                                    convert=True, verify=True)\n\u001b[0m\u001b[1;32m   1634\u001b[0m         \u001b[0mresult\u001b[0m \u001b[0;34m=\u001b[0m \u001b[0mself\u001b[0m\u001b[0;34m.\u001b[0m\u001b[0m_constructor\u001b[0m\u001b[0;34m(\u001b[0m\u001b[0mnew_data\u001b[0m\u001b[0;34m)\u001b[0m\u001b[0;34m.\u001b[0m\u001b[0m__finalize__\u001b[0m\u001b[0;34m(\u001b[0m\u001b[0mself\u001b[0m\u001b[0;34m)\u001b[0m\u001b[0;34m\u001b[0m\u001b[0m\n\u001b[1;32m   1635\u001b[0m \u001b[0;34m\u001b[0m\u001b[0m\n",
      "\u001b[0;32m/Users/vidit/anaconda3/envs/python35/lib/python3.5/site-packages/pandas/core/internals.py\u001b[0m in \u001b[0;36mtake\u001b[0;34m(self, indexer, axis, verify, convert)\u001b[0m\n\u001b[1;32m   3709\u001b[0m         \u001b[0mnew_labels\u001b[0m \u001b[0;34m=\u001b[0m \u001b[0mself\u001b[0m\u001b[0;34m.\u001b[0m\u001b[0maxes\u001b[0m\u001b[0;34m[\u001b[0m\u001b[0maxis\u001b[0m\u001b[0;34m]\u001b[0m\u001b[0;34m.\u001b[0m\u001b[0mtake\u001b[0m\u001b[0;34m(\u001b[0m\u001b[0mindexer\u001b[0m\u001b[0;34m)\u001b[0m\u001b[0;34m\u001b[0m\u001b[0m\n\u001b[1;32m   3710\u001b[0m         return self.reindex_indexer(new_axis=new_labels, indexer=indexer,\n\u001b[0;32m-> 3711\u001b[0;31m                                     axis=axis, allow_dups=True)\n\u001b[0m\u001b[1;32m   3712\u001b[0m \u001b[0;34m\u001b[0m\u001b[0m\n\u001b[1;32m   3713\u001b[0m     \u001b[0;32mdef\u001b[0m \u001b[0mmerge\u001b[0m\u001b[0;34m(\u001b[0m\u001b[0mself\u001b[0m\u001b[0;34m,\u001b[0m \u001b[0mother\u001b[0m\u001b[0;34m,\u001b[0m \u001b[0mlsuffix\u001b[0m\u001b[0;34m=\u001b[0m\u001b[0;34m''\u001b[0m\u001b[0;34m,\u001b[0m \u001b[0mrsuffix\u001b[0m\u001b[0;34m=\u001b[0m\u001b[0;34m''\u001b[0m\u001b[0;34m)\u001b[0m\u001b[0;34m:\u001b[0m\u001b[0;34m\u001b[0m\u001b[0m\n",
      "\u001b[0;32m/Users/vidit/anaconda3/envs/python35/lib/python3.5/site-packages/pandas/core/internals.py\u001b[0m in \u001b[0;36mreindex_indexer\u001b[0;34m(self, new_axis, indexer, axis, fill_value, allow_dups, copy)\u001b[0m\n\u001b[1;32m   3595\u001b[0m             new_blocks = [blk.take_nd(indexer, axis=axis, fill_tuple=(\n\u001b[1;32m   3596\u001b[0m                 fill_value if fill_value is not None else blk.fill_value,))\n\u001b[0;32m-> 3597\u001b[0;31m                 for blk in self.blocks]\n\u001b[0m\u001b[1;32m   3598\u001b[0m \u001b[0;34m\u001b[0m\u001b[0m\n\u001b[1;32m   3599\u001b[0m         \u001b[0mnew_axes\u001b[0m \u001b[0;34m=\u001b[0m \u001b[0mlist\u001b[0m\u001b[0;34m(\u001b[0m\u001b[0mself\u001b[0m\u001b[0;34m.\u001b[0m\u001b[0maxes\u001b[0m\u001b[0;34m)\u001b[0m\u001b[0;34m\u001b[0m\u001b[0m\n",
      "\u001b[0;32m/Users/vidit/anaconda3/envs/python35/lib/python3.5/site-packages/pandas/core/internals.py\u001b[0m in \u001b[0;36m<listcomp>\u001b[0;34m(.0)\u001b[0m\n\u001b[1;32m   3595\u001b[0m             new_blocks = [blk.take_nd(indexer, axis=axis, fill_tuple=(\n\u001b[1;32m   3596\u001b[0m                 fill_value if fill_value is not None else blk.fill_value,))\n\u001b[0;32m-> 3597\u001b[0;31m                 for blk in self.blocks]\n\u001b[0m\u001b[1;32m   3598\u001b[0m \u001b[0;34m\u001b[0m\u001b[0m\n\u001b[1;32m   3599\u001b[0m         \u001b[0mnew_axes\u001b[0m \u001b[0;34m=\u001b[0m \u001b[0mlist\u001b[0m\u001b[0;34m(\u001b[0m\u001b[0mself\u001b[0m\u001b[0;34m.\u001b[0m\u001b[0maxes\u001b[0m\u001b[0;34m)\u001b[0m\u001b[0;34m\u001b[0m\u001b[0m\n",
      "\u001b[0;32m/Users/vidit/anaconda3/envs/python35/lib/python3.5/site-packages/pandas/core/internals.py\u001b[0m in \u001b[0;36mtake_nd\u001b[0;34m(self, indexer, axis, new_mgr_locs, fill_tuple)\u001b[0m\n\u001b[1;32m    994\u001b[0m             \u001b[0mfill_value\u001b[0m \u001b[0;34m=\u001b[0m \u001b[0mfill_tuple\u001b[0m\u001b[0;34m[\u001b[0m\u001b[0;36m0\u001b[0m\u001b[0;34m]\u001b[0m\u001b[0;34m\u001b[0m\u001b[0m\n\u001b[1;32m    995\u001b[0m             new_values = algos.take_nd(values, indexer, axis=axis,\n\u001b[0;32m--> 996\u001b[0;31m                                        allow_fill=True, fill_value=fill_value)\n\u001b[0m\u001b[1;32m    997\u001b[0m \u001b[0;34m\u001b[0m\u001b[0m\n\u001b[1;32m    998\u001b[0m         \u001b[0;32mif\u001b[0m \u001b[0mnew_mgr_locs\u001b[0m \u001b[0;32mis\u001b[0m \u001b[0;32mNone\u001b[0m\u001b[0;34m:\u001b[0m\u001b[0;34m\u001b[0m\u001b[0m\n",
      "\u001b[0;32m/Users/vidit/anaconda3/envs/python35/lib/python3.5/site-packages/pandas/core/algorithms.py\u001b[0m in \u001b[0;36mtake_nd\u001b[0;34m(arr, indexer, axis, out, fill_value, mask_info, allow_fill)\u001b[0m\n\u001b[1;32m    933\u001b[0m                                  mask_info=mask_info)\n\u001b[1;32m    934\u001b[0m     \u001b[0mindexer\u001b[0m \u001b[0;34m=\u001b[0m \u001b[0mcom\u001b[0m\u001b[0;34m.\u001b[0m\u001b[0m_ensure_int64\u001b[0m\u001b[0;34m(\u001b[0m\u001b[0mindexer\u001b[0m\u001b[0;34m)\u001b[0m\u001b[0;34m\u001b[0m\u001b[0m\n\u001b[0;32m--> 935\u001b[0;31m     \u001b[0mfunc\u001b[0m\u001b[0;34m(\u001b[0m\u001b[0marr\u001b[0m\u001b[0;34m,\u001b[0m \u001b[0mindexer\u001b[0m\u001b[0;34m,\u001b[0m \u001b[0mout\u001b[0m\u001b[0;34m,\u001b[0m \u001b[0mfill_value\u001b[0m\u001b[0;34m)\u001b[0m\u001b[0;34m\u001b[0m\u001b[0m\n\u001b[0m\u001b[1;32m    936\u001b[0m \u001b[0;34m\u001b[0m\u001b[0m\n\u001b[1;32m    937\u001b[0m     \u001b[0;32mif\u001b[0m \u001b[0mflip_order\u001b[0m\u001b[0;34m:\u001b[0m\u001b[0;34m\u001b[0m\u001b[0m\n",
      "\u001b[0;31mKeyboardInterrupt\u001b[0m: "
     ]
    }
   ],
   "source": [
    "dfsc_uk = dfs_uk.merge(dfc_uk, how='inner', left_on='name', right_on='link_id')\n",
    "cps_uk = dfsc_uk.groupby(by='name_x').apply(concat_comments_per_submission)\n",
    "cps_uk = cps_uk.reset_index()\n",
    "\n",
    "dfs_name = pd.DataFrame(dfs_uk[['name', 'title']])\n",
    "df_aggcomments_uk = dfs_name.merge(cps_uk, how='inner', left_on='name', right_on='name_x')\n",
    "del df_aggcomments_uk['name_x']\n",
    "df_aggcomments_uk['title_comments'] = df_aggcomments_uk.apply(lambda x: x['title']+' '+x['comments'], axis=1)\n",
    "df_aggcomments_uk"
   ]
  },
  {
   "cell_type": "code",
   "execution_count": null,
   "metadata": {
    "collapsed": true
   },
   "outputs": [],
   "source": [
    "text_uk = [t for t in df_aggcomments_uk['title_comments']]"
   ]
  },
  {
   "cell_type": "code",
   "execution_count": null,
   "metadata": {
    "collapsed": true
   },
   "outputs": [],
   "source": [
    "num_topics = 5\n",
    "[model_swiss, corpus, dictionary, long_texts] = topic_modeling(text_uk, num_topics)\n",
    "model_swiss.print_topics()"
   ]
  },
  {
   "cell_type": "code",
   "execution_count": null,
   "metadata": {
    "collapsed": true
   },
   "outputs": [],
   "source": []
  },
  {
   "cell_type": "code",
   "execution_count": null,
   "metadata": {
    "collapsed": true
   },
   "outputs": [],
   "source": []
  },
  {
   "cell_type": "markdown",
   "metadata": {},
   "source": [
    "## EU"
   ]
  },
  {
   "cell_type": "code",
   "execution_count": 6,
   "metadata": {
    "collapsed": false
   },
   "outputs": [],
   "source": [
    "path_submissions = \"../data/reddit_europe_submissions_fullcorpus\"\n",
    "path_comments = '../data'\n",
    "filename_comments = \"reddit_europe_comments_*\"\n",
    "\n",
    "[dfs_eu, dfc_eu] = concat_submissions_comments(path_submissions, path_comments, filename_comments)"
   ]
  },
  {
   "cell_type": "code",
   "execution_count": 9,
   "metadata": {
    "collapsed": false
   },
   "outputs": [],
   "source": [
    "sub_mention_swiss = pickle.load(open('../data/euro_swiss_mention_subs.pickle','rb'))\n",
    "dfc_eu = dfc_eu[dfc_eu['link_id'].isin(sub_mention_swiss)]"
   ]
  },
  {
   "cell_type": "code",
   "execution_count": 11,
   "metadata": {
    "collapsed": false
   },
   "outputs": [],
   "source": [
    "dfsc_eu = dfs_eu.merge(dfc_eu, how='inner', left_on='name', right_on='link_id')\n",
    "cps_eu = dfsc_eu.groupby(by='name_x').apply(concat_comments_per_submission)\n",
    "cps_eu = cps_eu.reset_index()\n",
    "\n",
    "dfs_name = pd.DataFrame(dfs_eu[['name', 'title', 'created_utc']])\n",
    "df_aggcomments_eu = dfs_name.merge(cps_eu, how='inner', left_on='name', right_on='name_x')\n",
    "del df_aggcomments_eu['name_x']\n",
    "df_aggcomments_eu['title_comments'] = df_aggcomments_eu.apply(lambda x: x['title']+' '+x['comments'], axis=1)\n"
   ]
  },
  {
   "cell_type": "code",
   "execution_count": 14,
   "metadata": {
    "collapsed": false
   },
   "outputs": [
    {
     "name": "stdout",
     "output_type": "stream",
     "text": [
      "No. of documents: 343\n"
     ]
    }
   ],
   "source": [
    "text_eu = [t for t in df_aggcomments_eu['title_comments']]\n",
    "processed_text = preprocessing(text_eu)\n"
   ]
  },
  {
   "cell_type": "code",
   "execution_count": 16,
   "metadata": {
    "collapsed": false
   },
   "outputs": [
    {
     "data": {
      "text/plain": [
       "[(0,\n",
       "  '0.012*\"UK\" + 0.009*\"think\" + 0.007*\"get\" + 0.007*\"really\" + 0.007*\"much\" + 0.007*\"\\'re\" + 0.006*\"education\" + 0.006*\"\\'m\" + 0.006*\"school\" + 0.005*\"countries\"'),\n",
       " (1,\n",
       "  '0.011*\"money\" + 0.008*\"one\" + 0.007*\"tax\" + 0.007*\"German\" + 0.006*\"Germany\" + 0.005*\"could\" + 0.005*\"http\" + 0.005*\"much\" + 0.005*\"even\" + 0.005*\"taxes\"'),\n",
       " (2,\n",
       "  '0.007*\"French\" + 0.007*\"deleted\" + 0.006*\"think\" + 0.006*\"destruction\" + 0.006*\"one\" + 0.005*\"even\" + 0.005*\"still\" + 0.005*\"way\" + 0.005*\"conto\" + 0.005*\"Europe\"'),\n",
       " (3,\n",
       "  '0.010*\"one\" + 0.010*\"deleted\" + 0.008*\"get\" + 0.008*\"http\" + 0.007*\"Germany\" + 0.006*\"\\'m\" + 0.006*\"train\" + 0.006*\"\\'re\" + 0.006*\"think\" + 0.006*\"need\"'),\n",
       " (4,\n",
       "  '0.021*\"German\" + 0.008*\"Germany\" + 0.008*\"http\" + 0.008*\"tax\" + 0.007*\"one\" + 0.006*\"much\" + 0.006*\"speak\" + 0.005*\"\\'m\" + 0.005*\"understand\" + 0.005*\"money\"'),\n",
       " (5,\n",
       "  '0.012*\"genocide\" + 0.012*\"Schweiz\" + 0.008*\"one\" + 0.008*\"think\" + 0.008*\"deleted\" + 0.008*\"http\" + 0.007*\"really\" + 0.006*\"Turkey\" + 0.006*\"country\" + 0.006*\"also\"'),\n",
       " (6,\n",
       "  '0.008*\"\\'re\" + 0.008*\"one\" + 0.007*\"deleted\" + 0.007*\"http\" + 0.007*\"even\" + 0.006*\"\\'m\" + 0.006*\"country\" + 0.006*\"know\" + 0.006*\"live\" + 0.006*\"get\"'),\n",
       " (7,\n",
       "  '0.024*\"http\" + 0.018*\"Schweiz\" + 0.017*\"hat\" + 0.014*\"noch\" + 0.013*\"https\" + 0.012*\"nur\" + 0.010*\"war\" + 0.010*\"haben\" + 0.010*\"mal\" + 0.009*\"schon\"'),\n",
       " (8,\n",
       "  '0.008*\"get\" + 0.008*\"country\" + 0.007*\"\\'re\" + 0.006*\"money\" + 0.006*\"countries\" + 0.006*\"much\" + 0.005*\"roads\" + 0.005*\"work\" + 0.005*\"even\" + 0.005*\"one\"'),\n",
       " (9,\n",
       "  '0.045*\"c\\'est\" + 0.023*\"Suisse\" + 0.020*\"France\" + 0.017*\"pays\" + 0.016*\"C\\'est\" + 0.014*\"qu\\'il\" + 0.013*\"n\\'est\" + 0.011*\"qu\\'on\" + 0.010*\"http\" + 0.010*\"j\\'ai\"'),\n",
       " (10,\n",
       "  '0.008*\"think\" + 0.008*\"\\'re\" + 0.007*\"one\" + 0.007*\"country\" + 0.006*\"UK\" + 0.006*\"US\" + 0.006*\"even\" + 0.006*\"Russia\" + 0.005*\"way\" + 0.005*\"Europe\"'),\n",
       " (11,\n",
       "  '0.007*\"deleted\" + 0.007*\"democracy\" + 0.007*\"http\" + 0.007*\"think\" + 0.007*\"vote\" + 0.006*\"one\" + 0.006*\"want\" + 0.006*\"countries\" + 0.006*\"Europe\" + 0.006*\"get\"'),\n",
       " (12,\n",
       "  '0.008*\"deleted\" + 0.007*\"\\'re\" + 0.007*\"years\" + 0.006*\"country\" + 0.006*\"get\" + 0.006*\"make\" + 0.006*\"really\" + 0.006*\"much\" + 0.005*\"cats\" + 0.005*\"even\"'),\n",
       " (13,\n",
       "  '0.013*\"tax\" + 0.010*\"country\" + 0.010*\"countries\" + 0.007*\"think\" + 0.007*\"money\" + 0.007*\"\\'re\" + 0.007*\"gun\" + 0.006*\"one\" + 0.006*\"much\" + 0.006*\"taxes\"'),\n",
       " (14,\n",
       "  '0.009*\"country\" + 0.009*\"think\" + 0.007*\"\\'re\" + 0.006*\"one\" + 0.006*\"deleted\" + 0.005*\"trade\" + 0.005*\"treaty\" + 0.005*\"get\" + 0.005*\"want\" + 0.005*\"free\"')]"
      ]
     },
     "execution_count": 16,
     "metadata": {},
     "output_type": "execute_result"
    }
   ],
   "source": [
    "num_topics = 15\n",
    "\n",
    "[model_eu, corpus, dictionary] = topic_modeling(processed_text, num_topics)\n",
    "model_eu.print_topics()"
   ]
  },
  {
   "cell_type": "code",
   "execution_count": null,
   "metadata": {
    "collapsed": true
   },
   "outputs": [],
   "source": [
    "germany_subreddit_list = ['germany', 'de', 'German', 'GermanPractice', 'GermanFacts', 'GermanConversation',                  ## germany\n",
    "     'SCHLAND', 'germanyusa', 'DEjobs', 'bundesliga', 'GermanyPics', 'germusic', 'de_punk', 'germanrap', 'NDH']                 ## germany\n",
    "france_subreddit_list  = ['blagues', 'cinemacinema', 'europe', 'france', 'FrancePics', 'frenchelectro', 'Frenchhistory', 'guessthefrenchmovie',      ## france\n",
    "     'Ligue1', 'Livres', 'musiquefrancaise', 'paris', 'pedale', 'philosophie', 'Politique', 'rance', 'ScienceFr', 'SocialFrance']## france\n",
    "italy_subreddit_list  = ['Calcio', 'ITAGLIA', 'Italianhistory', 'ITALIANMUSIC', 'italy', 'ItalyPhotos', 'Libri', 'Abruzzo', 'Apulia', 'bari',       ## italy\n",
    "     'Basilicata', 'bologna', 'Calabria', 'Campania', 'Catania', 'emilia_romagna', 'firenze', 'friuli', 'Genova', 'Italia',     ## italy\n",
    "     'lazio', 'Liguria', 'lombardia', 'Lombardy', 'marche', 'messina', 'milano', 'Modena', 'molise', 'Naples_Italy', 'napoli',  ## italy\n",
    "     'padova', 'Palermo', 'Perugia', 'Piedmont', 'piemonte', 'Pisa', 'puglia', 'roma', 'rome', 'romesocialclub', 'Sardegna',    ## italy\n",
    "     'Sardinia', 'Sicilia', 'sicily', 'Siracusa', 'torino', 'Toscana', 'trentino_alto_adige', 'trentod', 'Trieste',             ## italy\n",
    "     'tuscany', 'Umbria', 'valle_daosta', 'Veneto', 'Venezia']                                                                 ## italy\n",
    "spain_subreddit_list   =  ['Barcelona', 'EPANA', 'es', 'europe', 'futbol', 'Granada', 'LaLiga', 'Madrid', 'spain', 'Andalucia', 'SpanishHistory']     ## spain "
   ]
  },
  {
   "cell_type": "code",
   "execution_count": null,
   "metadata": {
    "collapsed": true
   },
   "outputs": [],
   "source": [
    "dfs_germany = dfs_eu[dfs_eu['subreddit'].isin(germany_subreddit_list)]"
   ]
  }
 ],
 "metadata": {
  "anaconda-cloud": {},
  "kernelspec": {
   "display_name": "Python [conda env:python35]",
   "language": "python",
   "name": "conda-env-python35-py"
  },
  "language_info": {
   "codemirror_mode": {
    "name": "ipython",
    "version": 3
   },
   "file_extension": ".py",
   "mimetype": "text/x-python",
   "name": "python",
   "nbconvert_exporter": "python",
   "pygments_lexer": "ipython3",
   "version": "3.5.2"
  }
 },
 "nbformat": 4,
 "nbformat_minor": 1
}
